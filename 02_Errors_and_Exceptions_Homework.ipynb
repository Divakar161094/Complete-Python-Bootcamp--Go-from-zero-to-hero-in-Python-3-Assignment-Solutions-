{
  "nbformat": 4,
  "nbformat_minor": 0,
  "metadata": {
    "colab": {
      "name": "02-Errors and Exceptions Homework.ipynb",
      "version": "0.3.2",
      "views": {},
      "default_view": {},
      "provenance": []
    },
    "kernelspec": {
      "display_name": "Python 3",
      "language": "python",
      "name": "python3"
    }
  },
  "cells": [
    {
      "metadata": {
        "id": "Phahvr7yXeMu",
        "colab_type": "text"
      },
      "cell_type": "markdown",
      "source": [
        "# Errors and Exceptions Homework"
      ]
    },
    {
      "metadata": {
        "id": "Xvsx1fqBXeMv",
        "colab_type": "text"
      },
      "cell_type": "markdown",
      "source": [
        "### Problem 1\n",
        "Handle the exception thrown by the code below by using <code>try</code> and <code>except</code> blocks."
      ]
    },
    {
      "metadata": {
        "id": "IpUodWKgXeMx",
        "colab_type": "code",
        "colab": {
          "autoexec": {
            "startup": false,
            "wait_interval": 0
          },
          "base_uri": "https://localhost:8080/",
          "height": 69
        },
        "outputId": "170f976a-917f-4d67-b108-aafbba1f2a4c",
        "executionInfo": {
          "status": "ok",
          "timestamp": 1531631821959,
          "user_tz": -330,
          "elapsed": 1483,
          "user": {
            "displayName": "ankur raja",
            "photoUrl": "//lh3.googleusercontent.com/-P3hjYlx442I/AAAAAAAAAAI/AAAAAAAAAJ8/_AwxqjC6DhE/s50-c-k-no/photo.jpg",
            "userId": "111833698361307138454"
          }
        }
      },
      "cell_type": "code",
      "source": [
        "for i in ['a','b','c']:\n",
        "    try:\n",
        "      print(i**2)\n",
        "    except:\n",
        "      print ('item not a number')"
      ],
      "execution_count": 1,
      "outputs": [
        {
          "output_type": "stream",
          "text": [
            "item not a number\n",
            "item not a number\n",
            "item not a number\n"
          ],
          "name": "stdout"
        }
      ]
    },
    {
      "metadata": {
        "id": "fBCmpDHYXeM4",
        "colab_type": "text"
      },
      "cell_type": "markdown",
      "source": [
        "### Problem 2\n",
        "Handle the exception thrown by the code below by using <code>try</code> and <code>except</code> blocks. Then use a <code>finally</code> block to print 'All Done.'"
      ]
    },
    {
      "metadata": {
        "id": "bTNKraQQXeM5",
        "colab_type": "code",
        "colab": {
          "autoexec": {
            "startup": false,
            "wait_interval": 0
          },
          "base_uri": "https://localhost:8080/",
          "height": 52
        },
        "outputId": "ec337bd8-8be7-4af3-a2f2-804574585130",
        "executionInfo": {
          "status": "ok",
          "timestamp": 1531631915986,
          "user_tz": -330,
          "elapsed": 980,
          "user": {
            "displayName": "ankur raja",
            "photoUrl": "//lh3.googleusercontent.com/-P3hjYlx442I/AAAAAAAAAAI/AAAAAAAAAJ8/_AwxqjC6DhE/s50-c-k-no/photo.jpg",
            "userId": "111833698361307138454"
          }
        }
      },
      "cell_type": "code",
      "source": [
        "x = 5\n",
        "y = 0\n",
        "\n",
        "try:\n",
        "  \n",
        "  z = x/y\n",
        "\n",
        "except:\n",
        "  \n",
        "  if(y==0):\n",
        "    print(\"Division by zero not allowed\")\n",
        "\n",
        "finally:\n",
        "  \n",
        "  print (\"All done\")"
      ],
      "execution_count": 4,
      "outputs": [
        {
          "output_type": "stream",
          "text": [
            "Division by zero not allowed\n",
            "All done\n"
          ],
          "name": "stdout"
        }
      ]
    },
    {
      "metadata": {
        "id": "ad2bfcy3XeM9",
        "colab_type": "text"
      },
      "cell_type": "markdown",
      "source": [
        "### Problem 3\n",
        "Write a function that asks for an integer and prints the square of it. Use a <code>while</code> loop with a <code>try</code>, <code>except</code>, <code>else</code> block to account for incorrect inputs."
      ]
    },
    {
      "metadata": {
        "id": "O2rDdRoQXeM9",
        "colab_type": "code",
        "colab": {
          "autoexec": {
            "startup": false,
            "wait_interval": 0
          }
        }
      },
      "cell_type": "code",
      "source": [
        "def ask():\n",
        "#     pass\n",
        "  while True:\n",
        "    try:\n",
        "      n = int(input(\"Enter a number\"))\n",
        "      print (\"Thank you, your number squared is:\",n**2)\n",
        "      break\n",
        "    except:\n",
        "      print(\"Input is not a number\")\n"
      ],
      "execution_count": 0,
      "outputs": []
    },
    {
      "metadata": {
        "id": "AaKN921iXeNC",
        "colab_type": "code",
        "colab": {
          "autoexec": {
            "startup": false,
            "wait_interval": 0
          },
          "base_uri": "https://localhost:8080/",
          "height": 121
        },
        "outputId": "85edc8f9-ac21-4685-d60c-49b64fb5c7b7",
        "executionInfo": {
          "status": "ok",
          "timestamp": 1531632113702,
          "user_tz": -330,
          "elapsed": 13845,
          "user": {
            "displayName": "ankur raja",
            "photoUrl": "//lh3.googleusercontent.com/-P3hjYlx442I/AAAAAAAAAAI/AAAAAAAAAJ8/_AwxqjC6DhE/s50-c-k-no/photo.jpg",
            "userId": "111833698361307138454"
          }
        }
      },
      "cell_type": "code",
      "source": [
        "ask()"
      ],
      "execution_count": 7,
      "outputs": [
        {
          "output_type": "stream",
          "text": [
            "Enter a number\n",
            "Input is not a number\n",
            "Enter a numberasnk\n",
            "Input is not a number\n",
            "Enter a number1\n",
            "Thank you, your number squared is: 1\n"
          ],
          "name": "stdout"
        }
      ]
    },
    {
      "metadata": {
        "id": "vsJ4QywnXeNF",
        "colab_type": "text"
      },
      "cell_type": "markdown",
      "source": [
        "# Great Job!"
      ]
    }
  ]
}