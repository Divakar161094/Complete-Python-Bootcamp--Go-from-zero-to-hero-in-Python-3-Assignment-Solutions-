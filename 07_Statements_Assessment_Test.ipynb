{
  "nbformat": 4,
  "nbformat_minor": 0,
  "metadata": {
    "colab": {
      "name": "07-Statements Assessment Test.ipynb",
      "version": "0.3.2",
      "views": {},
      "default_view": {},
      "provenance": []
    },
    "kernelspec": {
      "display_name": "Python 3",
      "language": "python",
      "name": "python3"
    }
  },
  "cells": [
    {
      "metadata": {
        "id": "8Chqk4AZYBGj",
        "colab_type": "text"
      },
      "cell_type": "markdown",
      "source": [
        "# Statements Assessment Test\n",
        "Let's test your knowledge!"
      ]
    },
    {
      "metadata": {
        "id": "XiCfQM7gYBGk",
        "colab_type": "text"
      },
      "cell_type": "markdown",
      "source": [
        "_____\n",
        "**Use <code>for</code>, .split(), and <code>if</code> to create a Statement that will print out words that start with 's':**"
      ]
    },
    {
      "metadata": {
        "id": "7YsbIdIxYBGm",
        "colab_type": "code",
        "colab": {
          "autoexec": {
            "startup": false,
            "wait_interval": 0
          }
        }
      },
      "cell_type": "code",
      "source": [
        "st = 'Print only the words that start with s in this sentence'"
      ],
      "execution_count": 0,
      "outputs": []
    },
    {
      "metadata": {
        "id": "jTUdL9zmYBGt",
        "colab_type": "code",
        "colab": {
          "autoexec": {
            "startup": false,
            "wait_interval": 0
          },
          "base_uri": "https://localhost:8080/",
          "height": 69
        },
        "outputId": "a77f5d8e-5232-4a99-e426-39ceb5618374",
        "executionInfo": {
          "status": "ok",
          "timestamp": 1531581697403,
          "user_tz": -330,
          "elapsed": 962,
          "user": {
            "displayName": "ankur raja",
            "photoUrl": "//lh3.googleusercontent.com/-P3hjYlx442I/AAAAAAAAAAI/AAAAAAAAAJ8/_AwxqjC6DhE/s50-c-k-no/photo.jpg",
            "userId": "111833698361307138454"
          }
        }
      },
      "cell_type": "code",
      "source": [
        "#Code here\n",
        "for word in st.split():\n",
        "  if word[0].lower()=='s':\n",
        "    print (word)\n",
        "    "
      ],
      "execution_count": 3,
      "outputs": [
        {
          "output_type": "stream",
          "text": [
            "start\n",
            "s\n",
            "sentence\n"
          ],
          "name": "stdout"
        }
      ]
    },
    {
      "metadata": {
        "id": "9E_bqrB_YBGw",
        "colab_type": "text"
      },
      "cell_type": "markdown",
      "source": [
        "______\n",
        "**Use range() to print all the even numbers from 0 to 10.**"
      ]
    },
    {
      "metadata": {
        "id": "Qe-INo5VYBGx",
        "colab_type": "code",
        "colab": {
          "autoexec": {
            "startup": false,
            "wait_interval": 0
          },
          "base_uri": "https://localhost:8080/",
          "height": 35
        },
        "outputId": "c8e4516b-271c-4d46-eccb-91d9f2507a64",
        "executionInfo": {
          "status": "ok",
          "timestamp": 1531581732223,
          "user_tz": -330,
          "elapsed": 1089,
          "user": {
            "displayName": "ankur raja",
            "photoUrl": "//lh3.googleusercontent.com/-P3hjYlx442I/AAAAAAAAAAI/AAAAAAAAAJ8/_AwxqjC6DhE/s50-c-k-no/photo.jpg",
            "userId": "111833698361307138454"
          }
        }
      },
      "cell_type": "code",
      "source": [
        "#Code Here\n",
        "print (list(range(0,11,2)))"
      ],
      "execution_count": 5,
      "outputs": [
        {
          "output_type": "stream",
          "text": [
            "[0, 2, 4, 6, 8, 10]\n"
          ],
          "name": "stdout"
        }
      ]
    },
    {
      "metadata": {
        "id": "TlFyoE7QYBG1",
        "colab_type": "text"
      },
      "cell_type": "markdown",
      "source": [
        "___\n",
        "**Use a List Comprehension to create a list of all numbers between 1 and 50 that are divisible by 3.**"
      ]
    },
    {
      "metadata": {
        "id": "EU9hNje1YBG1",
        "colab_type": "code",
        "colab": {
          "autoexec": {
            "startup": false,
            "wait_interval": 0
          },
          "base_uri": "https://localhost:8080/",
          "height": 35
        },
        "outputId": "fb0d94d7-7615-406d-ac65-a7aec4c23786",
        "executionInfo": {
          "status": "ok",
          "timestamp": 1531581767974,
          "user_tz": -330,
          "elapsed": 1053,
          "user": {
            "displayName": "ankur raja",
            "photoUrl": "//lh3.googleusercontent.com/-P3hjYlx442I/AAAAAAAAAAI/AAAAAAAAAJ8/_AwxqjC6DhE/s50-c-k-no/photo.jpg",
            "userId": "111833698361307138454"
          }
        }
      },
      "cell_type": "code",
      "source": [
        "#Code in this cell\n",
        "[x for x in range(1,51) if x%3==0]"
      ],
      "execution_count": 6,
      "outputs": [
        {
          "output_type": "execute_result",
          "data": {
            "text/plain": [
              "[3, 6, 9, 12, 15, 18, 21, 24, 27, 30, 33, 36, 39, 42, 45, 48]"
            ]
          },
          "metadata": {
            "tags": []
          },
          "execution_count": 6
        }
      ]
    },
    {
      "metadata": {
        "id": "hVAjfqhhYBG6",
        "colab_type": "text"
      },
      "cell_type": "markdown",
      "source": [
        "_____\n",
        "**Go through the string below and if the length of a word is even print \"even!\"**"
      ]
    },
    {
      "metadata": {
        "id": "5RbP8-G4YBG8",
        "colab_type": "code",
        "colab": {
          "autoexec": {
            "startup": false,
            "wait_interval": 0
          }
        }
      },
      "cell_type": "code",
      "source": [
        "st = 'Print every word in this sentence that has an even number of letters'"
      ],
      "execution_count": 0,
      "outputs": []
    },
    {
      "metadata": {
        "id": "bZOjQ9THYBG_",
        "colab_type": "code",
        "colab": {
          "autoexec": {
            "startup": false,
            "wait_interval": 0
          },
          "base_uri": "https://localhost:8080/",
          "height": 173
        },
        "outputId": "d4e057b3-77d5-43df-94dc-419bfbd7759d",
        "executionInfo": {
          "status": "ok",
          "timestamp": 1531581895024,
          "user_tz": -330,
          "elapsed": 878,
          "user": {
            "displayName": "ankur raja",
            "photoUrl": "//lh3.googleusercontent.com/-P3hjYlx442I/AAAAAAAAAAI/AAAAAAAAAJ8/_AwxqjC6DhE/s50-c-k-no/photo.jpg",
            "userId": "111833698361307138454"
          }
        }
      },
      "cell_type": "code",
      "source": [
        "#Code in this cell\n",
        "for word in st.split():\n",
        "#   print (word)\n",
        "  if len(word)%2==0:\n",
        "    print (word)"
      ],
      "execution_count": 15,
      "outputs": [
        {
          "output_type": "stream",
          "text": [
            "word\n",
            "in\n",
            "this\n",
            "sentence\n",
            "that\n",
            "an\n",
            "even\n",
            "number\n",
            "of\n"
          ],
          "name": "stdout"
        }
      ]
    },
    {
      "metadata": {
        "id": "4fzv8INAYBHD",
        "colab_type": "text"
      },
      "cell_type": "markdown",
      "source": [
        "____\n",
        "**Write a program that prints the integers from 1 to 100. But for multiples of three print \"Fizz\" instead of the number, and for the multiples of five print \"Buzz\". For numbers which are multiples of both three and five print \"FizzBuzz\".**"
      ]
    },
    {
      "metadata": {
        "id": "iYVFR9-zYBHD",
        "colab_type": "code",
        "colab": {
          "autoexec": {
            "startup": false,
            "wait_interval": 0
          },
          "base_uri": "https://localhost:8080/",
          "height": 829
        },
        "outputId": "7e36bf89-34c0-4222-ebce-3cc134dcfedb",
        "executionInfo": {
          "status": "ok",
          "timestamp": 1531582074327,
          "user_tz": -330,
          "elapsed": 1886,
          "user": {
            "displayName": "ankur raja",
            "photoUrl": "//lh3.googleusercontent.com/-P3hjYlx442I/AAAAAAAAAAI/AAAAAAAAAJ8/_AwxqjC6DhE/s50-c-k-no/photo.jpg",
            "userId": "111833698361307138454"
          }
        }
      },
      "cell_type": "code",
      "source": [
        "#Code in this cell\n",
        "for i in range(1,101):\n",
        "  \n",
        "  if i%3==0 and i%5==0:\n",
        "    print (f\"{i} FizzBuzz\")\n",
        "  \n",
        "  elif i%3==0:\n",
        "    print (f\"{i} Fizz\")\n",
        "  \n",
        "  elif i%5==0:\n",
        "    print (f\"{i} Buzz\") "
      ],
      "execution_count": 18,
      "outputs": [
        {
          "output_type": "stream",
          "text": [
            "3 Fizz\n",
            "5 Buzz\n",
            "6 Fizz\n",
            "9 Fizz\n",
            "10 Buzz\n",
            "12 Fizz\n",
            "15 FizzBuzz\n",
            "18 Fizz\n",
            "20 Buzz\n",
            "21 Fizz\n",
            "24 Fizz\n",
            "25 Buzz\n",
            "27 Fizz\n",
            "30 FizzBuzz\n",
            "33 Fizz\n",
            "35 Buzz\n",
            "36 Fizz\n",
            "39 Fizz\n",
            "40 Buzz\n",
            "42 Fizz\n",
            "45 FizzBuzz\n",
            "48 Fizz\n",
            "50 Buzz\n",
            "51 Fizz\n",
            "54 Fizz\n",
            "55 Buzz\n",
            "57 Fizz\n",
            "60 FizzBuzz\n",
            "63 Fizz\n",
            "65 Buzz\n",
            "66 Fizz\n",
            "69 Fizz\n",
            "70 Buzz\n",
            "72 Fizz\n",
            "75 FizzBuzz\n",
            "78 Fizz\n",
            "80 Buzz\n",
            "81 Fizz\n",
            "84 Fizz\n",
            "85 Buzz\n",
            "87 Fizz\n",
            "90 FizzBuzz\n",
            "93 Fizz\n",
            "95 Buzz\n",
            "96 Fizz\n",
            "99 Fizz\n",
            "100 Buzz\n"
          ],
          "name": "stdout"
        }
      ]
    },
    {
      "metadata": {
        "id": "fi6crfaeYBHI",
        "colab_type": "text"
      },
      "cell_type": "markdown",
      "source": [
        "____\n",
        "**Use List Comprehension to create a list of the first letters of every word in the string below:**"
      ]
    },
    {
      "metadata": {
        "id": "Gz7SWPr4YBHL",
        "colab_type": "code",
        "colab": {
          "autoexec": {
            "startup": false,
            "wait_interval": 0
          }
        }
      },
      "cell_type": "code",
      "source": [
        "st = 'Create a list of the first letters of every word in this string'"
      ],
      "execution_count": 0,
      "outputs": []
    },
    {
      "metadata": {
        "id": "ZgAkqnsVYBHQ",
        "colab_type": "code",
        "colab": {
          "autoexec": {
            "startup": false,
            "wait_interval": 0
          },
          "base_uri": "https://localhost:8080/",
          "height": 35
        },
        "outputId": "95899aa2-2c16-4293-89ee-495809163484",
        "executionInfo": {
          "status": "ok",
          "timestamp": 1531582112088,
          "user_tz": -330,
          "elapsed": 1174,
          "user": {
            "displayName": "ankur raja",
            "photoUrl": "//lh3.googleusercontent.com/-P3hjYlx442I/AAAAAAAAAAI/AAAAAAAAAJ8/_AwxqjC6DhE/s50-c-k-no/photo.jpg",
            "userId": "111833698361307138454"
          }
        }
      },
      "cell_type": "code",
      "source": [
        "#Code in this cell\n",
        "[letter[0] for letter in st.split()]"
      ],
      "execution_count": 20,
      "outputs": [
        {
          "output_type": "execute_result",
          "data": {
            "text/plain": [
              "['C', 'a', 'l', 'o', 't', 'f', 'l', 'o', 'e', 'w', 'i', 't', 's']"
            ]
          },
          "metadata": {
            "tags": []
          },
          "execution_count": 20
        }
      ]
    },
    {
      "metadata": {
        "id": "qF7zqvWuYBHU",
        "colab_type": "text"
      },
      "cell_type": "markdown",
      "source": [
        "### Great Job!"
      ]
    }
  ]
}