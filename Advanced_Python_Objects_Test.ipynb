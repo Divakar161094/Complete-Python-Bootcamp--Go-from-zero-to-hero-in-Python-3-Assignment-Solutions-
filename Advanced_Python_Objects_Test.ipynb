{
  "nbformat": 4,
  "nbformat_minor": 0,
  "metadata": {
    "colab": {
      "name": " Advanced Python Objects Test.ipynb",
      "version": "0.3.2",
      "views": {},
      "default_view": {},
      "provenance": []
    },
    "kernelspec": {
      "display_name": "Python 3",
      "language": "python",
      "name": "python3"
    }
  },
  "cells": [
    {
      "metadata": {
        "id": "aKz2YpT0aRaL",
        "colab_type": "text"
      },
      "cell_type": "markdown",
      "source": [
        "# Advanced Python Objects Test"
      ]
    },
    {
      "metadata": {
        "id": "_OpBw43FaRaM",
        "colab_type": "text"
      },
      "cell_type": "markdown",
      "source": [
        "## Advanced Numbers\n",
        "\n",
        "**Problem 1: Convert 1024 to binary and hexadecimal representation**"
      ]
    },
    {
      "metadata": {
        "id": "o_2ogvr1aRaN",
        "colab_type": "code",
        "colab": {
          "autoexec": {
            "startup": false,
            "wait_interval": 0
          },
          "base_uri": "https://localhost:8080/",
          "height": 35
        },
        "outputId": "33f84171-4b8f-40c9-8248-303d775f22d1",
        "executionInfo": {
          "status": "ok",
          "timestamp": 1531817067103,
          "user_tz": -330,
          "elapsed": 1397,
          "user": {
            "displayName": "ankur raja",
            "photoUrl": "//lh3.googleusercontent.com/-P3hjYlx442I/AAAAAAAAAAI/AAAAAAAAAJ8/_AwxqjC6DhE/s50-c-k-no/photo.jpg",
            "userId": "111833698361307138454"
          }
        }
      },
      "cell_type": "code",
      "source": [
        "print (hex(1024),bin(1024))"
      ],
      "execution_count": 1,
      "outputs": [
        {
          "output_type": "stream",
          "text": [
            "0x400 0b10000000000\n"
          ],
          "name": "stdout"
        }
      ]
    },
    {
      "metadata": {
        "id": "BSrNTLtEaRaR",
        "colab_type": "text"
      },
      "cell_type": "markdown",
      "source": [
        "**Problem 2: Round 5.23222 to two decimal places**"
      ]
    },
    {
      "metadata": {
        "id": "qHMhTPqyaRaS",
        "colab_type": "code",
        "colab": {
          "autoexec": {
            "startup": false,
            "wait_interval": 0
          },
          "base_uri": "https://localhost:8080/",
          "height": 35
        },
        "outputId": "7034c9e8-df49-495c-8dc5-7df93438bbaa",
        "executionInfo": {
          "status": "ok",
          "timestamp": 1531817075878,
          "user_tz": -330,
          "elapsed": 775,
          "user": {
            "displayName": "ankur raja",
            "photoUrl": "//lh3.googleusercontent.com/-P3hjYlx442I/AAAAAAAAAAI/AAAAAAAAAJ8/_AwxqjC6DhE/s50-c-k-no/photo.jpg",
            "userId": "111833698361307138454"
          }
        }
      },
      "cell_type": "code",
      "source": [
        "round(5.23222,2)"
      ],
      "execution_count": 2,
      "outputs": [
        {
          "output_type": "execute_result",
          "data": {
            "text/plain": [
              "5.23"
            ]
          },
          "metadata": {
            "tags": []
          },
          "execution_count": 2
        }
      ]
    },
    {
      "metadata": {
        "id": "N_sasPOAaRaW",
        "colab_type": "text"
      },
      "cell_type": "markdown",
      "source": [
        "## Advanced Strings\n",
        "**Problem 3: Check if every letter in the string s is lower case**"
      ]
    },
    {
      "metadata": {
        "id": "kPsw_1kDaRaX",
        "colab_type": "code",
        "colab": {
          "autoexec": {
            "startup": false,
            "wait_interval": 0
          },
          "base_uri": "https://localhost:8080/",
          "height": 35
        },
        "outputId": "76099fc6-8c48-4b22-e62e-b4dc820309a7",
        "executionInfo": {
          "status": "ok",
          "timestamp": 1531817099295,
          "user_tz": -330,
          "elapsed": 932,
          "user": {
            "displayName": "ankur raja",
            "photoUrl": "//lh3.googleusercontent.com/-P3hjYlx442I/AAAAAAAAAAI/AAAAAAAAAJ8/_AwxqjC6DhE/s50-c-k-no/photo.jpg",
            "userId": "111833698361307138454"
          }
        }
      },
      "cell_type": "code",
      "source": [
        "s = 'hello how are you Mary, are you feeling okay?'\n",
        "s.islower()\n"
      ],
      "execution_count": 4,
      "outputs": [
        {
          "output_type": "execute_result",
          "data": {
            "text/plain": [
              "False"
            ]
          },
          "metadata": {
            "tags": []
          },
          "execution_count": 4
        }
      ]
    },
    {
      "metadata": {
        "id": "nv1fGJt6aRaa",
        "colab_type": "text"
      },
      "cell_type": "markdown",
      "source": [
        "**Problem 4: How many times does the letter 'w' show up in the string below?**"
      ]
    },
    {
      "metadata": {
        "id": "ag-eHyfmaRac",
        "colab_type": "code",
        "colab": {
          "autoexec": {
            "startup": false,
            "wait_interval": 0
          },
          "base_uri": "https://localhost:8080/",
          "height": 35
        },
        "outputId": "4d4b3dc5-a62f-4f89-ef8d-adbd92452c7c",
        "executionInfo": {
          "status": "ok",
          "timestamp": 1531817109427,
          "user_tz": -330,
          "elapsed": 1063,
          "user": {
            "displayName": "ankur raja",
            "photoUrl": "//lh3.googleusercontent.com/-P3hjYlx442I/AAAAAAAAAAI/AAAAAAAAAJ8/_AwxqjC6DhE/s50-c-k-no/photo.jpg",
            "userId": "111833698361307138454"
          }
        }
      },
      "cell_type": "code",
      "source": [
        "s = 'twywywtwywbwhsjhwuwshshwuwwwjdjdid'\n",
        "s.count('w')\n"
      ],
      "execution_count": 5,
      "outputs": [
        {
          "output_type": "execute_result",
          "data": {
            "text/plain": [
              "12"
            ]
          },
          "metadata": {
            "tags": []
          },
          "execution_count": 5
        }
      ]
    },
    {
      "metadata": {
        "id": "UOCID3MKaRaf",
        "colab_type": "text"
      },
      "cell_type": "markdown",
      "source": [
        "## Advanced Sets\n",
        "**Problem 5: Find the elements in set1 that are not in set2:**"
      ]
    },
    {
      "metadata": {
        "id": "EmDNR2FaaRag",
        "colab_type": "code",
        "colab": {
          "autoexec": {
            "startup": false,
            "wait_interval": 0
          },
          "base_uri": "https://localhost:8080/",
          "height": 35
        },
        "outputId": "dfdf8b18-7789-47d1-a7ed-932df5a543fb",
        "executionInfo": {
          "status": "ok",
          "timestamp": 1531817136078,
          "user_tz": -330,
          "elapsed": 939,
          "user": {
            "displayName": "ankur raja",
            "photoUrl": "//lh3.googleusercontent.com/-P3hjYlx442I/AAAAAAAAAAI/AAAAAAAAAJ8/_AwxqjC6DhE/s50-c-k-no/photo.jpg",
            "userId": "111833698361307138454"
          }
        }
      },
      "cell_type": "code",
      "source": [
        "set1 = {2,3,1,5,6,8}\n",
        "set2 = {3,1,7,5,6,8}\n",
        "\n",
        "set1.difference(set2)"
      ],
      "execution_count": 6,
      "outputs": [
        {
          "output_type": "execute_result",
          "data": {
            "text/plain": [
              "{2}"
            ]
          },
          "metadata": {
            "tags": []
          },
          "execution_count": 6
        }
      ]
    },
    {
      "metadata": {
        "id": "UYAXGewZaRaj",
        "colab_type": "text"
      },
      "cell_type": "markdown",
      "source": [
        "**Problem 6: Find all elements that are in either set:**"
      ]
    },
    {
      "metadata": {
        "id": "6ZXSG7lqaRak",
        "colab_type": "code",
        "colab": {
          "autoexec": {
            "startup": false,
            "wait_interval": 0
          },
          "base_uri": "https://localhost:8080/",
          "height": 35
        },
        "outputId": "c406c4fe-2fef-4d75-fd1c-1ecfc63e041b",
        "executionInfo": {
          "status": "ok",
          "timestamp": 1531817157801,
          "user_tz": -330,
          "elapsed": 1181,
          "user": {
            "displayName": "ankur raja",
            "photoUrl": "//lh3.googleusercontent.com/-P3hjYlx442I/AAAAAAAAAAI/AAAAAAAAAJ8/_AwxqjC6DhE/s50-c-k-no/photo.jpg",
            "userId": "111833698361307138454"
          }
        }
      },
      "cell_type": "code",
      "source": [
        "set1.union(set2)"
      ],
      "execution_count": 7,
      "outputs": [
        {
          "output_type": "execute_result",
          "data": {
            "text/plain": [
              "{1, 2, 3, 5, 6, 7, 8}"
            ]
          },
          "metadata": {
            "tags": []
          },
          "execution_count": 7
        }
      ]
    },
    {
      "metadata": {
        "id": "HH2uprv2aRam",
        "colab_type": "text"
      },
      "cell_type": "markdown",
      "source": [
        "## Advanced Dictionaries\n",
        "\n",
        "**Problem 7: Create this dictionary:\n",
        "{0: 0, 1: 1, 2: 8, 3: 27, 4: 64}\n",
        " using a dictionary comprehension.**"
      ]
    },
    {
      "metadata": {
        "id": "5L4pGSD9aRan",
        "colab_type": "code",
        "colab": {
          "autoexec": {
            "startup": false,
            "wait_interval": 0
          },
          "base_uri": "https://localhost:8080/",
          "height": 35
        },
        "outputId": "a0cd1de4-ea9f-4181-ccbd-9fdd619c2b6f",
        "executionInfo": {
          "status": "ok",
          "timestamp": 1531817218377,
          "user_tz": -330,
          "elapsed": 887,
          "user": {
            "displayName": "ankur raja",
            "photoUrl": "//lh3.googleusercontent.com/-P3hjYlx442I/AAAAAAAAAAI/AAAAAAAAAJ8/_AwxqjC6DhE/s50-c-k-no/photo.jpg",
            "userId": "111833698361307138454"
          }
        }
      },
      "cell_type": "code",
      "source": [
        "{x:x**3 for x in range(5)}"
      ],
      "execution_count": 10,
      "outputs": [
        {
          "output_type": "execute_result",
          "data": {
            "text/plain": [
              "{0: 0, 1: 1, 2: 8, 3: 27, 4: 64}"
            ]
          },
          "metadata": {
            "tags": []
          },
          "execution_count": 10
        }
      ]
    },
    {
      "metadata": {
        "id": "Hzer1O4EaRas",
        "colab_type": "text"
      },
      "cell_type": "markdown",
      "source": [
        "## Advanced Lists\n",
        "\n",
        "**Problem 8: Reverse the list below:**"
      ]
    },
    {
      "metadata": {
        "id": "LVHnJd3oaRat",
        "colab_type": "code",
        "colab": {
          "autoexec": {
            "startup": false,
            "wait_interval": 0
          },
          "base_uri": "https://localhost:8080/",
          "height": 35
        },
        "outputId": "d103813d-4546-423f-d4b2-94e14de31ec3",
        "executionInfo": {
          "status": "ok",
          "timestamp": 1531817236411,
          "user_tz": -330,
          "elapsed": 911,
          "user": {
            "displayName": "ankur raja",
            "photoUrl": "//lh3.googleusercontent.com/-P3hjYlx442I/AAAAAAAAAAI/AAAAAAAAAJ8/_AwxqjC6DhE/s50-c-k-no/photo.jpg",
            "userId": "111833698361307138454"
          }
        }
      },
      "cell_type": "code",
      "source": [
        "list1 = [1,2,3,4]\n",
        "list1.reverse()\n",
        "list1"
      ],
      "execution_count": 12,
      "outputs": [
        {
          "output_type": "execute_result",
          "data": {
            "text/plain": [
              "[4, 3, 2, 1]"
            ]
          },
          "metadata": {
            "tags": []
          },
          "execution_count": 12
        }
      ]
    },
    {
      "metadata": {
        "id": "K_fb1aIpaRax",
        "colab_type": "text"
      },
      "cell_type": "markdown",
      "source": [
        "**Problem 9: Sort the list below:**"
      ]
    },
    {
      "metadata": {
        "id": "Z4lFkAFYaRax",
        "colab_type": "code",
        "colab": {
          "autoexec": {
            "startup": false,
            "wait_interval": 0
          },
          "base_uri": "https://localhost:8080/",
          "height": 35
        },
        "outputId": "0e1f345f-a4cd-4a28-c96b-2c7eefc14880",
        "executionInfo": {
          "status": "ok",
          "timestamp": 1531817247631,
          "user_tz": -330,
          "elapsed": 985,
          "user": {
            "displayName": "ankur raja",
            "photoUrl": "//lh3.googleusercontent.com/-P3hjYlx442I/AAAAAAAAAAI/AAAAAAAAAJ8/_AwxqjC6DhE/s50-c-k-no/photo.jpg",
            "userId": "111833698361307138454"
          }
        }
      },
      "cell_type": "code",
      "source": [
        "list2 = [3,4,2,5,1]\n",
        "list2.sort()\n",
        "list2\n"
      ],
      "execution_count": 13,
      "outputs": [
        {
          "output_type": "execute_result",
          "data": {
            "text/plain": [
              "[1, 2, 3, 4, 5]"
            ]
          },
          "metadata": {
            "tags": []
          },
          "execution_count": 13
        }
      ]
    },
    {
      "metadata": {
        "id": "t2svSqf3aRa0",
        "colab_type": "text"
      },
      "cell_type": "markdown",
      "source": [
        "# Great Job!"
      ]
    }
  ]
}