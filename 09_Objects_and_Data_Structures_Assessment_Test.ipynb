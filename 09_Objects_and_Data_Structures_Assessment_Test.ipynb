{
  "nbformat": 4,
  "nbformat_minor": 0,
  "metadata": {
    "colab": {
      "name": "09-Objects and Data Structures Assessment Test.ipynb",
      "version": "0.3.2",
      "views": {},
      "default_view": {},
      "provenance": []
    },
    "kernelspec": {
      "display_name": "Python 3",
      "language": "python",
      "name": "python3"
    }
  },
  "cells": [
    {
      "metadata": {
        "id": "d_qwHXu1cKRk",
        "colab_type": "text"
      },
      "cell_type": "markdown",
      "source": [
        "# Objects and Data Structures Assessment Test"
      ]
    },
    {
      "metadata": {
        "id": "OVYmyfm2cKRm",
        "colab_type": "text"
      },
      "cell_type": "markdown",
      "source": [
        "## Test your knowledge. \n",
        "\n",
        "** Answer the following questions **"
      ]
    },
    {
      "metadata": {
        "id": "am0pLiKFcKRn",
        "colab_type": "text"
      },
      "cell_type": "markdown",
      "source": [
        "Write a brief description of all the following Object Types and Data Structures we've learned about: "
      ]
    },
    {
      "metadata": {
        "id": "8zRXSJ5gcKRo",
        "colab_type": "text"
      },
      "cell_type": "markdown",
      "source": [
        "Numbers: These are the most basic objects in python , which store numeric values. Example : 1,2,3,3.14\n",
        "\n",
        "Strings: These are used to store strings in python and are immutable. Ex : \"Ankur\"      ,  Ordered sequence of characters,immutable.\n",
        "\n",
        "Lists: These are used to store a list of objects in python , they are mutable. Ex : [\"Ankur\",0318] , Ordered Sequence of objects, mutable.\n",
        "\n",
        "Tuples: These are used to store a list of objects in python, they are immutable. Ex : (0,1,2) , Ordered Sequence of objects, immutable.\n",
        "\n",
        "Dictionaries: These are used to store key,value mappings. Unordered\n"
      ]
    },
    {
      "metadata": {
        "id": "af8LybyCcKRp",
        "colab_type": "text"
      },
      "cell_type": "markdown",
      "source": [
        "## Numbers\n",
        "\n",
        "Write an equation that uses multiplication, division, an exponent, addition, and subtraction that is equal to 100.25.\n",
        "\n",
        "Hint: This is just to test your memory of the basic arithmetic commands, work backwards from 100.25"
      ]
    },
    {
      "metadata": {
        "id": "_9B8HHPncKRq",
        "colab_type": "code",
        "colab": {
          "autoexec": {
            "startup": false,
            "wait_interval": 0
          },
          "base_uri": "https://localhost:8080/",
          "height": 35
        },
        "outputId": "cabc9d7b-6516-41cd-b8c4-1dc323d732eb",
        "executionInfo": {
          "status": "ok",
          "timestamp": 1531549174751,
          "user_tz": -330,
          "elapsed": 1127,
          "user": {
            "displayName": "ankur raja",
            "photoUrl": "//lh3.googleusercontent.com/-P3hjYlx442I/AAAAAAAAAAI/AAAAAAAAAJ8/_AwxqjC6DhE/s50-c-k-no/photo.jpg",
            "userId": "111833698361307138454"
          }
        }
      },
      "cell_type": "code",
      "source": [
        "(100.5+9-9)"
      ],
      "execution_count": 1,
      "outputs": [
        {
          "output_type": "execute_result",
          "data": {
            "text/plain": [
              "100.5"
            ]
          },
          "metadata": {
            "tags": []
          },
          "execution_count": 1
        }
      ]
    },
    {
      "metadata": {
        "id": "2HMcnaIHcKRv",
        "colab_type": "text"
      },
      "cell_type": "markdown",
      "source": [
        "Answer these 3 questions without typing code. Then type code to check your answer.\n",
        "\n",
        "    What is the value of the expression 4 * (6 + 5)\n",
        "    \n",
        "    What is the value of the expression 4 * 6 + 5 \n",
        "    \n",
        "    What is the value of the expression 4 + 6 * 5 "
      ]
    },
    {
      "metadata": {
        "id": "iEHtA0FTcKRv",
        "colab_type": "code",
        "colab": {
          "autoexec": {
            "startup": false,
            "wait_interval": 0
          },
          "base_uri": "https://localhost:8080/",
          "height": 35
        },
        "outputId": "57f1a241-6850-456b-8fec-cfdf64e9a33a",
        "executionInfo": {
          "status": "ok",
          "timestamp": 1531549204441,
          "user_tz": -330,
          "elapsed": 1505,
          "user": {
            "displayName": "ankur raja",
            "photoUrl": "//lh3.googleusercontent.com/-P3hjYlx442I/AAAAAAAAAAI/AAAAAAAAAJ8/_AwxqjC6DhE/s50-c-k-no/photo.jpg",
            "userId": "111833698361307138454"
          }
        }
      },
      "cell_type": "code",
      "source": [
        "4*(6+5)"
      ],
      "execution_count": 2,
      "outputs": [
        {
          "output_type": "execute_result",
          "data": {
            "text/plain": [
              "44"
            ]
          },
          "metadata": {
            "tags": []
          },
          "execution_count": 2
        }
      ]
    },
    {
      "metadata": {
        "id": "GOFH4qOIck2M",
        "colab_type": "code",
        "colab": {
          "autoexec": {
            "startup": false,
            "wait_interval": 0
          },
          "base_uri": "https://localhost:8080/",
          "height": 35
        },
        "outputId": "1e2f0552-568e-49a9-b820-2d0cbd26ebb4",
        "executionInfo": {
          "status": "ok",
          "timestamp": 1531549219543,
          "user_tz": -330,
          "elapsed": 960,
          "user": {
            "displayName": "ankur raja",
            "photoUrl": "//lh3.googleusercontent.com/-P3hjYlx442I/AAAAAAAAAAI/AAAAAAAAAJ8/_AwxqjC6DhE/s50-c-k-no/photo.jpg",
            "userId": "111833698361307138454"
          }
        }
      },
      "cell_type": "code",
      "source": [
        "4 * 6 + 5 "
      ],
      "execution_count": 3,
      "outputs": [
        {
          "output_type": "execute_result",
          "data": {
            "text/plain": [
              "29"
            ]
          },
          "metadata": {
            "tags": []
          },
          "execution_count": 3
        }
      ]
    },
    {
      "metadata": {
        "id": "kCUFP-DicolZ",
        "colab_type": "code",
        "colab": {
          "autoexec": {
            "startup": false,
            "wait_interval": 0
          },
          "base_uri": "https://localhost:8080/",
          "height": 35
        },
        "outputId": "cfdb3576-8159-47d1-8bac-bb2553ffd88d",
        "executionInfo": {
          "status": "ok",
          "timestamp": 1531549230248,
          "user_tz": -330,
          "elapsed": 1184,
          "user": {
            "displayName": "ankur raja",
            "photoUrl": "//lh3.googleusercontent.com/-P3hjYlx442I/AAAAAAAAAAI/AAAAAAAAAJ8/_AwxqjC6DhE/s50-c-k-no/photo.jpg",
            "userId": "111833698361307138454"
          }
        }
      },
      "cell_type": "code",
      "source": [
        "4 + 6 * 5"
      ],
      "execution_count": 4,
      "outputs": [
        {
          "output_type": "execute_result",
          "data": {
            "text/plain": [
              "34"
            ]
          },
          "metadata": {
            "tags": []
          },
          "execution_count": 4
        }
      ]
    },
    {
      "metadata": {
        "id": "YAT4f1IZcKR0",
        "colab_type": "text"
      },
      "cell_type": "markdown",
      "source": [
        "What is the *type* of the result of the expression 3 + 1.5 + 4?<br><br>"
      ]
    },
    {
      "metadata": {
        "id": "rhOpVaRYcKR1",
        "colab_type": "text"
      },
      "cell_type": "markdown",
      "source": [
        "What would you use to find a number’s square root, as well as its square? "
      ]
    },
    {
      "metadata": {
        "id": "rMiycKWDcKR1",
        "colab_type": "code",
        "colab": {
          "autoexec": {
            "startup": false,
            "wait_interval": 0
          },
          "base_uri": "https://localhost:8080/",
          "height": 35
        },
        "outputId": "efacd85a-128a-4f0b-f14f-77679e97d6b0",
        "executionInfo": {
          "status": "ok",
          "timestamp": 1531549254820,
          "user_tz": -330,
          "elapsed": 972,
          "user": {
            "displayName": "ankur raja",
            "photoUrl": "//lh3.googleusercontent.com/-P3hjYlx442I/AAAAAAAAAAI/AAAAAAAAAJ8/_AwxqjC6DhE/s50-c-k-no/photo.jpg",
            "userId": "111833698361307138454"
          }
        }
      },
      "cell_type": "code",
      "source": [
        "# Square root:\n",
        "import math\n",
        "math.sqrt(9)"
      ],
      "execution_count": 5,
      "outputs": [
        {
          "output_type": "execute_result",
          "data": {
            "text/plain": [
              "3.0"
            ]
          },
          "metadata": {
            "tags": []
          },
          "execution_count": 5
        }
      ]
    },
    {
      "metadata": {
        "id": "3PXEiojZcKR4",
        "colab_type": "code",
        "colab": {
          "autoexec": {
            "startup": false,
            "wait_interval": 0
          },
          "base_uri": "https://localhost:8080/",
          "height": 35
        },
        "outputId": "bfe78b77-bc6a-4211-8427-b13568f7a0ac",
        "executionInfo": {
          "status": "ok",
          "timestamp": 1531549265919,
          "user_tz": -330,
          "elapsed": 884,
          "user": {
            "displayName": "ankur raja",
            "photoUrl": "//lh3.googleusercontent.com/-P3hjYlx442I/AAAAAAAAAAI/AAAAAAAAAJ8/_AwxqjC6DhE/s50-c-k-no/photo.jpg",
            "userId": "111833698361307138454"
          }
        }
      },
      "cell_type": "code",
      "source": [
        "# Square:\n",
        "3**2"
      ],
      "execution_count": 6,
      "outputs": [
        {
          "output_type": "execute_result",
          "data": {
            "text/plain": [
              "9"
            ]
          },
          "metadata": {
            "tags": []
          },
          "execution_count": 6
        }
      ]
    },
    {
      "metadata": {
        "id": "M1C7XnjQcKR7",
        "colab_type": "text"
      },
      "cell_type": "markdown",
      "source": [
        "## Strings"
      ]
    },
    {
      "metadata": {
        "id": "dRNE7QzacKR9",
        "colab_type": "text"
      },
      "cell_type": "markdown",
      "source": [
        "Given the string 'hello' give an index command that returns 'e'. Enter your code in the cell below:"
      ]
    },
    {
      "metadata": {
        "id": "hiOGM3HMcKR9",
        "colab_type": "code",
        "colab": {
          "autoexec": {
            "startup": false,
            "wait_interval": 0
          },
          "base_uri": "https://localhost:8080/",
          "height": 35
        },
        "outputId": "d022c5ad-ba63-4acd-f833-cfe317c65338",
        "executionInfo": {
          "status": "ok",
          "timestamp": 1531549290900,
          "user_tz": -330,
          "elapsed": 1134,
          "user": {
            "displayName": "ankur raja",
            "photoUrl": "//lh3.googleusercontent.com/-P3hjYlx442I/AAAAAAAAAAI/AAAAAAAAAJ8/_AwxqjC6DhE/s50-c-k-no/photo.jpg",
            "userId": "111833698361307138454"
          }
        }
      },
      "cell_type": "code",
      "source": [
        "s = 'hello'\n",
        "# Print out 'e' using indexing\n",
        "s[1]\n"
      ],
      "execution_count": 7,
      "outputs": [
        {
          "output_type": "execute_result",
          "data": {
            "text/plain": [
              "'e'"
            ]
          },
          "metadata": {
            "tags": []
          },
          "execution_count": 7
        }
      ]
    },
    {
      "metadata": {
        "id": "imJWPPsfcKSB",
        "colab_type": "text"
      },
      "cell_type": "markdown",
      "source": [
        "Reverse the string 'hello' using slicing:"
      ]
    },
    {
      "metadata": {
        "id": "F5hOzskjcKSC",
        "colab_type": "code",
        "colab": {
          "autoexec": {
            "startup": false,
            "wait_interval": 0
          },
          "base_uri": "https://localhost:8080/",
          "height": 35
        },
        "outputId": "47415d23-91e0-4373-bd85-d62113b90368",
        "executionInfo": {
          "status": "ok",
          "timestamp": 1531549302026,
          "user_tz": -330,
          "elapsed": 1153,
          "user": {
            "displayName": "ankur raja",
            "photoUrl": "//lh3.googleusercontent.com/-P3hjYlx442I/AAAAAAAAAAI/AAAAAAAAAJ8/_AwxqjC6DhE/s50-c-k-no/photo.jpg",
            "userId": "111833698361307138454"
          }
        }
      },
      "cell_type": "code",
      "source": [
        "s ='hello'\n",
        "# Reverse the string using slicing\n",
        "s[::-1]\n"
      ],
      "execution_count": 8,
      "outputs": [
        {
          "output_type": "execute_result",
          "data": {
            "text/plain": [
              "'olleh'"
            ]
          },
          "metadata": {
            "tags": []
          },
          "execution_count": 8
        }
      ]
    },
    {
      "metadata": {
        "id": "wvXNJrmPcKSH",
        "colab_type": "text"
      },
      "cell_type": "markdown",
      "source": [
        "Given the string hello, give two methods of producing the letter 'o' using indexing."
      ]
    },
    {
      "metadata": {
        "id": "C28fM8h1cKSI",
        "colab_type": "code",
        "colab": {
          "autoexec": {
            "startup": false,
            "wait_interval": 0
          },
          "base_uri": "https://localhost:8080/",
          "height": 35
        },
        "outputId": "5141b4c2-79a4-437f-fe74-baf883bdd8b5",
        "executionInfo": {
          "status": "ok",
          "timestamp": 1531549321243,
          "user_tz": -330,
          "elapsed": 1335,
          "user": {
            "displayName": "ankur raja",
            "photoUrl": "//lh3.googleusercontent.com/-P3hjYlx442I/AAAAAAAAAAI/AAAAAAAAAJ8/_AwxqjC6DhE/s50-c-k-no/photo.jpg",
            "userId": "111833698361307138454"
          }
        }
      },
      "cell_type": "code",
      "source": [
        "s ='hello'\n",
        "# Print out the 'o'\n",
        "\n",
        "# Method 1:\n",
        "s[-1]\n"
      ],
      "execution_count": 9,
      "outputs": [
        {
          "output_type": "execute_result",
          "data": {
            "text/plain": [
              "'o'"
            ]
          },
          "metadata": {
            "tags": []
          },
          "execution_count": 9
        }
      ]
    },
    {
      "metadata": {
        "id": "YA_pDPlicKSL",
        "colab_type": "code",
        "colab": {
          "autoexec": {
            "startup": false,
            "wait_interval": 0
          },
          "base_uri": "https://localhost:8080/",
          "height": 35
        },
        "outputId": "3d6c1528-dadb-4ab6-fd79-12747e00d242",
        "executionInfo": {
          "status": "ok",
          "timestamp": 1531549326214,
          "user_tz": -330,
          "elapsed": 899,
          "user": {
            "displayName": "ankur raja",
            "photoUrl": "//lh3.googleusercontent.com/-P3hjYlx442I/AAAAAAAAAAI/AAAAAAAAAJ8/_AwxqjC6DhE/s50-c-k-no/photo.jpg",
            "userId": "111833698361307138454"
          }
        }
      },
      "cell_type": "code",
      "source": [
        "# Method 2:\n",
        "s[4]\n"
      ],
      "execution_count": 10,
      "outputs": [
        {
          "output_type": "execute_result",
          "data": {
            "text/plain": [
              "'o'"
            ]
          },
          "metadata": {
            "tags": []
          },
          "execution_count": 10
        }
      ]
    },
    {
      "metadata": {
        "id": "o5S8NhE0cKSN",
        "colab_type": "text"
      },
      "cell_type": "markdown",
      "source": [
        "## Lists"
      ]
    },
    {
      "metadata": {
        "id": "5gJqr8AecKSQ",
        "colab_type": "text"
      },
      "cell_type": "markdown",
      "source": [
        "Build this list [0,0,0] two separate ways."
      ]
    },
    {
      "metadata": {
        "id": "cUc20kGicKSS",
        "colab_type": "code",
        "colab": {
          "autoexec": {
            "startup": false,
            "wait_interval": 0
          },
          "base_uri": "https://localhost:8080/",
          "height": 35
        },
        "outputId": "e30e56de-7071-443d-f1c3-8d5bf4fae483",
        "executionInfo": {
          "status": "ok",
          "timestamp": 1531549336472,
          "user_tz": -330,
          "elapsed": 980,
          "user": {
            "displayName": "ankur raja",
            "photoUrl": "//lh3.googleusercontent.com/-P3hjYlx442I/AAAAAAAAAAI/AAAAAAAAAJ8/_AwxqjC6DhE/s50-c-k-no/photo.jpg",
            "userId": "111833698361307138454"
          }
        }
      },
      "cell_type": "code",
      "source": [
        "# Method 1:\n",
        "[0,0,0]"
      ],
      "execution_count": 11,
      "outputs": [
        {
          "output_type": "execute_result",
          "data": {
            "text/plain": [
              "[0, 0, 0]"
            ]
          },
          "metadata": {
            "tags": []
          },
          "execution_count": 11
        }
      ]
    },
    {
      "metadata": {
        "id": "FVFEiy4vcKSW",
        "colab_type": "code",
        "colab": {
          "autoexec": {
            "startup": false,
            "wait_interval": 0
          }
        }
      },
      "cell_type": "code",
      "source": [
        "# Method 2:\n",
        "list=[]\n",
        "list.append(0)\n",
        "list.append(0)\n",
        "list.append(0)"
      ],
      "execution_count": 0,
      "outputs": []
    },
    {
      "metadata": {
        "id": "Kh9r3rCCcKSZ",
        "colab_type": "text"
      },
      "cell_type": "markdown",
      "source": [
        "Reassign 'hello' in this nested list to say 'goodbye' instead:"
      ]
    },
    {
      "metadata": {
        "id": "5DIne25JcKSb",
        "colab_type": "code",
        "colab": {
          "autoexec": {
            "startup": false,
            "wait_interval": 0
          },
          "base_uri": "https://localhost:8080/",
          "height": 35
        },
        "outputId": "3b5b682b-475d-46a8-dfbd-8f3d6bca8a75",
        "executionInfo": {
          "status": "ok",
          "timestamp": 1531549442834,
          "user_tz": -330,
          "elapsed": 989,
          "user": {
            "displayName": "ankur raja",
            "photoUrl": "//lh3.googleusercontent.com/-P3hjYlx442I/AAAAAAAAAAI/AAAAAAAAAJ8/_AwxqjC6DhE/s50-c-k-no/photo.jpg",
            "userId": "111833698361307138454"
          }
        }
      },
      "cell_type": "code",
      "source": [
        "list3 = [1,2,[3,4,'hello']]\n",
        "\n",
        "list3[2][2]='goodbye'\n",
        "list3"
      ],
      "execution_count": 16,
      "outputs": [
        {
          "output_type": "execute_result",
          "data": {
            "text/plain": [
              "[1, 2, [3, 4, 'goodbye']]"
            ]
          },
          "metadata": {
            "tags": []
          },
          "execution_count": 16
        }
      ]
    },
    {
      "metadata": {
        "id": "B3whOAx7cKSf",
        "colab_type": "text"
      },
      "cell_type": "markdown",
      "source": [
        "Sort the list below:"
      ]
    },
    {
      "metadata": {
        "id": "9hqoYdWLcKSg",
        "colab_type": "code",
        "colab": {
          "autoexec": {
            "startup": false,
            "wait_interval": 0
          }
        }
      },
      "cell_type": "code",
      "source": [
        "list4 = [5,3,4,6,1]\n",
        "\n",
        "list4.sort()"
      ],
      "execution_count": 0,
      "outputs": []
    },
    {
      "metadata": {
        "id": "STb0ceDgcKSl",
        "colab_type": "text"
      },
      "cell_type": "markdown",
      "source": [
        "## Dictionaries"
      ]
    },
    {
      "metadata": {
        "id": "f50qSB4ucKSm",
        "colab_type": "text"
      },
      "cell_type": "markdown",
      "source": [
        "Using keys and indexing, grab the 'hello' from the following dictionaries:"
      ]
    },
    {
      "metadata": {
        "id": "1PW_G0pZcKSm",
        "colab_type": "code",
        "colab": {
          "autoexec": {
            "startup": false,
            "wait_interval": 0
          },
          "base_uri": "https://localhost:8080/",
          "height": 35
        },
        "outputId": "79703c98-2f78-4113-da0a-6f42af972a2f",
        "executionInfo": {
          "status": "ok",
          "timestamp": 1531549466999,
          "user_tz": -330,
          "elapsed": 1086,
          "user": {
            "displayName": "ankur raja",
            "photoUrl": "//lh3.googleusercontent.com/-P3hjYlx442I/AAAAAAAAAAI/AAAAAAAAAJ8/_AwxqjC6DhE/s50-c-k-no/photo.jpg",
            "userId": "111833698361307138454"
          }
        }
      },
      "cell_type": "code",
      "source": [
        "d = {'simple_key':'hello'}\n",
        "# Grab 'hello'\n",
        "d['simple_key']"
      ],
      "execution_count": 18,
      "outputs": [
        {
          "output_type": "execute_result",
          "data": {
            "text/plain": [
              "'hello'"
            ]
          },
          "metadata": {
            "tags": []
          },
          "execution_count": 18
        }
      ]
    },
    {
      "metadata": {
        "id": "ic4yX0y_cKSp",
        "colab_type": "code",
        "colab": {
          "autoexec": {
            "startup": false,
            "wait_interval": 0
          },
          "base_uri": "https://localhost:8080/",
          "height": 35
        },
        "outputId": "44356d5c-716b-4f92-8c1d-f34ed0913d4a",
        "executionInfo": {
          "status": "ok",
          "timestamp": 1531549487174,
          "user_tz": -330,
          "elapsed": 866,
          "user": {
            "displayName": "ankur raja",
            "photoUrl": "//lh3.googleusercontent.com/-P3hjYlx442I/AAAAAAAAAAI/AAAAAAAAAJ8/_AwxqjC6DhE/s50-c-k-no/photo.jpg",
            "userId": "111833698361307138454"
          }
        }
      },
      "cell_type": "code",
      "source": [
        "d = {'k1':{'k2':'hello'}}\n",
        "# Grab 'hello'\n",
        "d['k1']['k2']"
      ],
      "execution_count": 20,
      "outputs": [
        {
          "output_type": "execute_result",
          "data": {
            "text/plain": [
              "'hello'"
            ]
          },
          "metadata": {
            "tags": []
          },
          "execution_count": 20
        }
      ]
    },
    {
      "metadata": {
        "id": "jFIF1ksbcKSr",
        "colab_type": "code",
        "colab": {
          "autoexec": {
            "startup": false,
            "wait_interval": 0
          },
          "base_uri": "https://localhost:8080/",
          "height": 35
        },
        "outputId": "5d0a09b4-cd0c-46fa-f45d-cce76f6fee93",
        "executionInfo": {
          "status": "ok",
          "timestamp": 1531549548531,
          "user_tz": -330,
          "elapsed": 1157,
          "user": {
            "displayName": "ankur raja",
            "photoUrl": "//lh3.googleusercontent.com/-P3hjYlx442I/AAAAAAAAAAI/AAAAAAAAAJ8/_AwxqjC6DhE/s50-c-k-no/photo.jpg",
            "userId": "111833698361307138454"
          }
        }
      },
      "cell_type": "code",
      "source": [
        "# Getting a little tricker\n",
        "d = {'k1':[{'nest_key':['this is deep',['hello']]}]}\n",
        "\n",
        "#Grab hello\n",
        "d['k1'][0]['nest_key'][1]"
      ],
      "execution_count": 21,
      "outputs": [
        {
          "output_type": "execute_result",
          "data": {
            "text/plain": [
              "['hello']"
            ]
          },
          "metadata": {
            "tags": []
          },
          "execution_count": 21
        }
      ]
    },
    {
      "metadata": {
        "id": "XqQND1jPcKSu",
        "colab_type": "code",
        "colab": {
          "autoexec": {
            "startup": false,
            "wait_interval": 0
          },
          "base_uri": "https://localhost:8080/",
          "height": 35
        },
        "outputId": "9a9f5f96-7a2a-4ed3-cfed-c9706ad32d99",
        "executionInfo": {
          "status": "ok",
          "timestamp": 1531549640979,
          "user_tz": -330,
          "elapsed": 1012,
          "user": {
            "displayName": "ankur raja",
            "photoUrl": "//lh3.googleusercontent.com/-P3hjYlx442I/AAAAAAAAAAI/AAAAAAAAAJ8/_AwxqjC6DhE/s50-c-k-no/photo.jpg",
            "userId": "111833698361307138454"
          }
        }
      },
      "cell_type": "code",
      "source": [
        "# This will be hard and annoying!\n",
        "d = {'k1':[1,2,{'k2':['this is tricky',{'tough':[1,2,['hello']]}]}]}\n",
        "d['k1'][2]['k2'][1]['tough'][2]"
      ],
      "execution_count": 23,
      "outputs": [
        {
          "output_type": "execute_result",
          "data": {
            "text/plain": [
              "['hello']"
            ]
          },
          "metadata": {
            "tags": []
          },
          "execution_count": 23
        }
      ]
    },
    {
      "metadata": {
        "id": "P7KWMtdLcKSx",
        "colab_type": "text"
      },
      "cell_type": "markdown",
      "source": [
        "Can you sort a dictionary? Why or why not?<br><br>"
      ]
    },
    {
      "metadata": {
        "id": "lsWgCCvBeQMg",
        "colab_type": "text"
      },
      "cell_type": "markdown",
      "source": [
        "No, we can not sort a dictionary as it is not ordered, it is just a mapping from key to values."
      ]
    },
    {
      "metadata": {
        "id": "un7BV4FEcKSx",
        "colab_type": "text"
      },
      "cell_type": "markdown",
      "source": [
        "## Tuples"
      ]
    },
    {
      "metadata": {
        "id": "UJPpm8uZcKSz",
        "colab_type": "text"
      },
      "cell_type": "markdown",
      "source": [
        "What is the major difference between tuples and lists?<br><br>"
      ]
    },
    {
      "metadata": {
        "id": "h1-gjzDdejmQ",
        "colab_type": "text"
      },
      "cell_type": "markdown",
      "source": [
        "Tuples are immutable while lists are mutable. "
      ]
    },
    {
      "metadata": {
        "id": "n81ZPf9YcKS0",
        "colab_type": "text"
      },
      "cell_type": "markdown",
      "source": [
        "How do you create a tuple?<br><br>"
      ]
    },
    {
      "metadata": {
        "id": "RNRZDW1Je5VW",
        "colab_type": "text"
      },
      "cell_type": "markdown",
      "source": [
        "We can create tuple using the following syntax:\n",
        " \n",
        " Say, we have to create a tuple of numbers 1,2,3. \n",
        " \n",
        " a = (1,2,3)"
      ]
    },
    {
      "metadata": {
        "id": "WO8wujRbcKS1",
        "colab_type": "text"
      },
      "cell_type": "markdown",
      "source": [
        "## Sets "
      ]
    },
    {
      "metadata": {
        "id": "rLhBfFIecKS3",
        "colab_type": "text"
      },
      "cell_type": "markdown",
      "source": [
        "What is unique about a set?<br><br>"
      ]
    },
    {
      "metadata": {
        "id": "fFMr6kRcfYlc",
        "colab_type": "text"
      },
      "cell_type": "markdown",
      "source": [
        "set only contains unique elements."
      ]
    },
    {
      "metadata": {
        "id": "wPGn2rWicKS3",
        "colab_type": "text"
      },
      "cell_type": "markdown",
      "source": [
        "Use a set to find the unique values of the list below:"
      ]
    },
    {
      "metadata": {
        "id": "QsWIi_-HcKS4",
        "colab_type": "code",
        "colab": {
          "autoexec": {
            "startup": false,
            "wait_interval": 0
          },
          "base_uri": "https://localhost:8080/",
          "height": 35
        },
        "outputId": "08e7dfac-755a-48f9-e3c2-735f97d34bd3",
        "executionInfo": {
          "status": "ok",
          "timestamp": 1531549980133,
          "user_tz": -330,
          "elapsed": 1081,
          "user": {
            "displayName": "ankur raja",
            "photoUrl": "//lh3.googleusercontent.com/-P3hjYlx442I/AAAAAAAAAAI/AAAAAAAAAJ8/_AwxqjC6DhE/s50-c-k-no/photo.jpg",
            "userId": "111833698361307138454"
          }
        }
      },
      "cell_type": "code",
      "source": [
        "list5 = [1,2,2,33,4,4,11,22,3,3,2]\n",
        "\n",
        "set(list5)\n"
      ],
      "execution_count": 24,
      "outputs": [
        {
          "output_type": "execute_result",
          "data": {
            "text/plain": [
              "{1, 2, 3, 4, 11, 22, 33}"
            ]
          },
          "metadata": {
            "tags": []
          },
          "execution_count": 24
        }
      ]
    },
    {
      "metadata": {
        "id": "Ct4v4kshcKS6",
        "colab_type": "text"
      },
      "cell_type": "markdown",
      "source": [
        "## Booleans"
      ]
    },
    {
      "metadata": {
        "id": "08p2A31CcKS7",
        "colab_type": "text"
      },
      "cell_type": "markdown",
      "source": [
        "For the following quiz questions, we will get a preview of comparison operators. In the table below, a=3 and b=4.\n",
        "\n",
        "<table class=\"table table-bordered\">\n",
        "<tr>\n",
        "<th style=\"width:10%\">Operator</th><th style=\"width:45%\">Description</th><th>Example</th>\n",
        "</tr>\n",
        "<tr>\n",
        "<td>==</td>\n",
        "<td>If the values of two operands are equal, then the condition becomes true.</td>\n",
        "<td> (a == b) is not true.</td>\n",
        "</tr>\n",
        "<tr>\n",
        "<td>!=</td>\n",
        "<td>If values of two operands are not equal, then condition becomes true.</td>\n",
        "<td> (a != b) is true.</td>\n",
        "</tr>\n",
        "<tr>\n",
        "<td>&gt;</td>\n",
        "<td>If the value of left operand is greater than the value of right operand, then condition becomes true.</td>\n",
        "<td> (a &gt; b) is not true.</td>\n",
        "</tr>\n",
        "<tr>\n",
        "<td>&lt;</td>\n",
        "<td>If the value of left operand is less than the value of right operand, then condition becomes true.</td>\n",
        "<td> (a &lt; b) is true.</td>\n",
        "</tr>\n",
        "<tr>\n",
        "<td>&gt;=</td>\n",
        "<td>If the value of left operand is greater than or equal to the value of right operand, then condition becomes true.</td>\n",
        "<td> (a &gt;= b) is not true. </td>\n",
        "</tr>\n",
        "<tr>\n",
        "<td>&lt;=</td>\n",
        "<td>If the value of left operand is less than or equal to the value of right operand, then condition becomes true.</td>\n",
        "<td> (a &lt;= b) is true. </td>\n",
        "</tr>\n",
        "</table>"
      ]
    },
    {
      "metadata": {
        "id": "z0D_JQ4kcKS7",
        "colab_type": "text"
      },
      "cell_type": "markdown",
      "source": [
        "What will be the resulting Boolean of the following pieces of code (answer fist then check by typing it in!)"
      ]
    },
    {
      "metadata": {
        "id": "oiP4jOYtcKS8",
        "colab_type": "code",
        "colab": {
          "autoexec": {
            "startup": false,
            "wait_interval": 0
          },
          "base_uri": "https://localhost:8080/",
          "height": 35
        },
        "outputId": "2347b087-f47f-4cce-f17d-7250e87852a3",
        "executionInfo": {
          "status": "ok",
          "timestamp": 1531550007367,
          "user_tz": -330,
          "elapsed": 935,
          "user": {
            "displayName": "ankur raja",
            "photoUrl": "//lh3.googleusercontent.com/-P3hjYlx442I/AAAAAAAAAAI/AAAAAAAAAJ8/_AwxqjC6DhE/s50-c-k-no/photo.jpg",
            "userId": "111833698361307138454"
          }
        }
      },
      "cell_type": "code",
      "source": [
        "# Answer before running cell : False\n",
        "2 > 3"
      ],
      "execution_count": 25,
      "outputs": [
        {
          "output_type": "execute_result",
          "data": {
            "text/plain": [
              "False"
            ]
          },
          "metadata": {
            "tags": []
          },
          "execution_count": 25
        }
      ]
    },
    {
      "metadata": {
        "id": "o7FH-wCscKS_",
        "colab_type": "code",
        "colab": {
          "autoexec": {
            "startup": false,
            "wait_interval": 0
          },
          "base_uri": "https://localhost:8080/",
          "height": 35
        },
        "outputId": "a343d5a6-df3d-4c1d-f3a2-7bbae5cbb753",
        "executionInfo": {
          "status": "ok",
          "timestamp": 1531550013548,
          "user_tz": -330,
          "elapsed": 980,
          "user": {
            "displayName": "ankur raja",
            "photoUrl": "//lh3.googleusercontent.com/-P3hjYlx442I/AAAAAAAAAAI/AAAAAAAAAJ8/_AwxqjC6DhE/s50-c-k-no/photo.jpg",
            "userId": "111833698361307138454"
          }
        }
      },
      "cell_type": "code",
      "source": [
        "# Answer before running cell : False\n",
        "3 <= 2"
      ],
      "execution_count": 26,
      "outputs": [
        {
          "output_type": "execute_result",
          "data": {
            "text/plain": [
              "False"
            ]
          },
          "metadata": {
            "tags": []
          },
          "execution_count": 26
        }
      ]
    },
    {
      "metadata": {
        "id": "5ANgSGHicKTC",
        "colab_type": "code",
        "colab": {
          "autoexec": {
            "startup": false,
            "wait_interval": 0
          },
          "base_uri": "https://localhost:8080/",
          "height": 35
        },
        "outputId": "ca652661-b949-4658-ebe2-98114d3a2f77",
        "executionInfo": {
          "status": "ok",
          "timestamp": 1531550027038,
          "user_tz": -330,
          "elapsed": 689,
          "user": {
            "displayName": "ankur raja",
            "photoUrl": "//lh3.googleusercontent.com/-P3hjYlx442I/AAAAAAAAAAI/AAAAAAAAAJ8/_AwxqjC6DhE/s50-c-k-no/photo.jpg",
            "userId": "111833698361307138454"
          }
        }
      },
      "cell_type": "code",
      "source": [
        "# Answer before running cell : False\n",
        "3 == 2.0"
      ],
      "execution_count": 27,
      "outputs": [
        {
          "output_type": "execute_result",
          "data": {
            "text/plain": [
              "False"
            ]
          },
          "metadata": {
            "tags": []
          },
          "execution_count": 27
        }
      ]
    },
    {
      "metadata": {
        "id": "_GZ0pupEcKTI",
        "colab_type": "code",
        "colab": {
          "autoexec": {
            "startup": false,
            "wait_interval": 0
          },
          "base_uri": "https://localhost:8080/",
          "height": 35
        },
        "outputId": "f933daee-221c-4a21-8121-7043b75a2758",
        "executionInfo": {
          "status": "ok",
          "timestamp": 1531550035335,
          "user_tz": -330,
          "elapsed": 793,
          "user": {
            "displayName": "ankur raja",
            "photoUrl": "//lh3.googleusercontent.com/-P3hjYlx442I/AAAAAAAAAAI/AAAAAAAAAJ8/_AwxqjC6DhE/s50-c-k-no/photo.jpg",
            "userId": "111833698361307138454"
          }
        }
      },
      "cell_type": "code",
      "source": [
        "# Answer before running cell : False\n",
        "3.0 == 3"
      ],
      "execution_count": 28,
      "outputs": [
        {
          "output_type": "execute_result",
          "data": {
            "text/plain": [
              "True"
            ]
          },
          "metadata": {
            "tags": []
          },
          "execution_count": 28
        }
      ]
    },
    {
      "metadata": {
        "id": "VFeA0ibRcKTL",
        "colab_type": "code",
        "colab": {
          "autoexec": {
            "startup": false,
            "wait_interval": 0
          },
          "base_uri": "https://localhost:8080/",
          "height": 35
        },
        "outputId": "6fb711b1-0432-4e0e-f2dc-e0ea018d6731",
        "executionInfo": {
          "status": "ok",
          "timestamp": 1531550066049,
          "user_tz": -330,
          "elapsed": 956,
          "user": {
            "displayName": "ankur raja",
            "photoUrl": "//lh3.googleusercontent.com/-P3hjYlx442I/AAAAAAAAAAI/AAAAAAAAAJ8/_AwxqjC6DhE/s50-c-k-no/photo.jpg",
            "userId": "111833698361307138454"
          }
        }
      },
      "cell_type": "code",
      "source": [
        "# Answer before running cell : False\n",
        "4**0.5 != 2 "
      ],
      "execution_count": 29,
      "outputs": [
        {
          "output_type": "execute_result",
          "data": {
            "text/plain": [
              "False"
            ]
          },
          "metadata": {
            "tags": []
          },
          "execution_count": 29
        }
      ]
    },
    {
      "metadata": {
        "id": "qxaBPiDycKTP",
        "colab_type": "text"
      },
      "cell_type": "markdown",
      "source": [
        "Final Question: What is the boolean output of the cell block below?"
      ]
    },
    {
      "metadata": {
        "id": "gD7HZS2bcKTP",
        "colab_type": "code",
        "colab": {
          "autoexec": {
            "startup": false,
            "wait_interval": 0
          },
          "base_uri": "https://localhost:8080/",
          "height": 35
        },
        "outputId": "40660dde-fc6e-41b2-ad42-96fd882be25a",
        "executionInfo": {
          "status": "ok",
          "timestamp": 1531550091034,
          "user_tz": -330,
          "elapsed": 1290,
          "user": {
            "displayName": "ankur raja",
            "photoUrl": "//lh3.googleusercontent.com/-P3hjYlx442I/AAAAAAAAAAI/AAAAAAAAAJ8/_AwxqjC6DhE/s50-c-k-no/photo.jpg",
            "userId": "111833698361307138454"
          }
        }
      },
      "cell_type": "code",
      "source": [
        "# two nested lists\n",
        "l_one = [1,2,[3,4]]\n",
        "l_two = [1,2,{'k1':4}]\n",
        "\n",
        "# True or False? : False\n",
        "l_one[2][0] >= l_two[2]['k1']"
      ],
      "execution_count": 30,
      "outputs": [
        {
          "output_type": "execute_result",
          "data": {
            "text/plain": [
              "False"
            ]
          },
          "metadata": {
            "tags": []
          },
          "execution_count": 30
        }
      ]
    },
    {
      "metadata": {
        "id": "4J_DogpBcKTU",
        "colab_type": "text"
      },
      "cell_type": "markdown",
      "source": [
        "## Great Job on your first assessment! "
      ]
    }
  ]
}