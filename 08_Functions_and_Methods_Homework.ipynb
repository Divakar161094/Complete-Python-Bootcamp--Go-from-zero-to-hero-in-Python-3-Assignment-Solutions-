{
  "nbformat": 4,
  "nbformat_minor": 0,
  "metadata": {
    "colab": {
      "name": "08-Functions and Methods Homework.ipynb",
      "version": "0.3.2",
      "views": {},
      "default_view": {},
      "provenance": []
    },
    "kernelspec": {
      "display_name": "Python 3",
      "language": "python",
      "name": "python3"
    }
  },
  "cells": [
    {
      "metadata": {
        "id": "xNF8XOZNDgv4",
        "colab_type": "text"
      },
      "cell_type": "markdown",
      "source": [
        "# Functions and Methods Homework \n",
        "\n",
        "Complete the following questions:\n",
        "____\n",
        "**Write a function that computes the volume of a sphere given its radius.**\n",
        "<p>The volume of a sphere is given as $$\\frac{4}{3} πr^3$$</p>"
      ]
    },
    {
      "metadata": {
        "id": "YcddosBbDgv6",
        "colab_type": "code",
        "colab": {
          "autoexec": {
            "startup": false,
            "wait_interval": 0
          }
        }
      },
      "cell_type": "code",
      "source": [
        "def vol(rad):\n",
        "#     pass\n",
        "  pi = 3.14\n",
        "  \n",
        "  return 4*pi*rad**3"
      ],
      "execution_count": 0,
      "outputs": []
    },
    {
      "metadata": {
        "id": "AW0TX8wvDgwA",
        "colab_type": "code",
        "colab": {
          "autoexec": {
            "startup": false,
            "wait_interval": 0
          },
          "base_uri": "https://localhost:8080/",
          "height": 35
        },
        "outputId": "9562adc6-2d25-4a0d-df08-2241eb3a522f",
        "executionInfo": {
          "status": "ok",
          "timestamp": 1531475633339,
          "user_tz": -330,
          "elapsed": 1997,
          "user": {
            "displayName": "ankur raja",
            "photoUrl": "//lh3.googleusercontent.com/-P3hjYlx442I/AAAAAAAAAAI/AAAAAAAAAJ8/_AwxqjC6DhE/s50-c-k-no/photo.jpg",
            "userId": "111833698361307138454"
          }
        }
      },
      "cell_type": "code",
      "source": [
        "# Check\n",
        "vol(2)"
      ],
      "execution_count": 2,
      "outputs": [
        {
          "output_type": "execute_result",
          "data": {
            "text/plain": [
              "100.48"
            ]
          },
          "metadata": {
            "tags": []
          },
          "execution_count": 2
        }
      ]
    },
    {
      "metadata": {
        "id": "4nKDxpIJDgwG",
        "colab_type": "text"
      },
      "cell_type": "markdown",
      "source": [
        "___\n",
        "**Write a function that checks whether a number is in a given range (inclusive of high and low)**"
      ]
    },
    {
      "metadata": {
        "id": "8zj1-vf0DgwH",
        "colab_type": "code",
        "colab": {
          "autoexec": {
            "startup": false,
            "wait_interval": 0
          }
        }
      },
      "cell_type": "code",
      "source": [
        "def ran_check(num,low,high):\n",
        "#     pass\n",
        "  if num>=low and num<=high:\n",
        "    print (f\"{num} is in the range between {low} and {high}\")"
      ],
      "execution_count": 0,
      "outputs": []
    },
    {
      "metadata": {
        "id": "tRgWzgazDgwM",
        "colab_type": "code",
        "colab": {
          "autoexec": {
            "startup": false,
            "wait_interval": 0
          },
          "base_uri": "https://localhost:8080/",
          "height": 35
        },
        "outputId": "9034bff6-4f79-4859-edf4-97e3f47583e5",
        "executionInfo": {
          "status": "ok",
          "timestamp": 1531475728147,
          "user_tz": -330,
          "elapsed": 856,
          "user": {
            "displayName": "ankur raja",
            "photoUrl": "//lh3.googleusercontent.com/-P3hjYlx442I/AAAAAAAAAAI/AAAAAAAAAJ8/_AwxqjC6DhE/s50-c-k-no/photo.jpg",
            "userId": "111833698361307138454"
          }
        }
      },
      "cell_type": "code",
      "source": [
        "# Check\n",
        "ran_check(5,2,7)"
      ],
      "execution_count": 6,
      "outputs": [
        {
          "output_type": "stream",
          "text": [
            "5 is in the range between 2 and 7\n"
          ],
          "name": "stdout"
        }
      ]
    },
    {
      "metadata": {
        "id": "kKVquKMGDgwR",
        "colab_type": "text"
      },
      "cell_type": "markdown",
      "source": [
        "If you only wanted to return a boolean:"
      ]
    },
    {
      "metadata": {
        "id": "jWUB95ffDgwS",
        "colab_type": "code",
        "colab": {
          "autoexec": {
            "startup": false,
            "wait_interval": 0
          }
        }
      },
      "cell_type": "code",
      "source": [
        "def ran_bool(num,low,high):\n",
        "#     pass\n",
        "  return num>=low and num<=high"
      ],
      "execution_count": 0,
      "outputs": []
    },
    {
      "metadata": {
        "id": "AGdIIcKqDgwV",
        "colab_type": "code",
        "colab": {
          "autoexec": {
            "startup": false,
            "wait_interval": 0
          },
          "base_uri": "https://localhost:8080/",
          "height": 35
        },
        "outputId": "e1ad7aba-fa86-42e4-96d9-07bf315f56a5",
        "executionInfo": {
          "status": "ok",
          "timestamp": 1531475756735,
          "user_tz": -330,
          "elapsed": 859,
          "user": {
            "displayName": "ankur raja",
            "photoUrl": "//lh3.googleusercontent.com/-P3hjYlx442I/AAAAAAAAAAI/AAAAAAAAAJ8/_AwxqjC6DhE/s50-c-k-no/photo.jpg",
            "userId": "111833698361307138454"
          }
        }
      },
      "cell_type": "code",
      "source": [
        "ran_bool(3,1,10)"
      ],
      "execution_count": 8,
      "outputs": [
        {
          "output_type": "execute_result",
          "data": {
            "text/plain": [
              "True"
            ]
          },
          "metadata": {
            "tags": []
          },
          "execution_count": 8
        }
      ]
    },
    {
      "metadata": {
        "id": "LurqCSlUDgwa",
        "colab_type": "text"
      },
      "cell_type": "markdown",
      "source": [
        "____\n",
        "**Write a Python function that accepts a string and calculates the number of upper case letters and lower case letters.**\n",
        "\n",
        "    Sample String : 'Hello Mr. Rogers, how are you this fine Tuesday?'\n",
        "    Expected Output : \n",
        "    No. of Upper case characters : 4\n",
        "    No. of Lower case Characters : 33\n",
        "\n",
        "HINT: Two string methods that might prove useful: **.isupper()** and **.islower()**\n",
        "\n",
        "If you feel ambitious, explore the Collections module to solve this problem!"
      ]
    },
    {
      "metadata": {
        "id": "XeMEBy41Dgwb",
        "colab_type": "code",
        "colab": {
          "autoexec": {
            "startup": false,
            "wait_interval": 0
          }
        }
      },
      "cell_type": "code",
      "source": [
        "def up_low(s):\n",
        "#     pass\n",
        "  \n",
        "  sentence = s.split()\n",
        "  \n",
        "  count_upper =0\n",
        "  count_lower =0\n",
        "  len_sentence=0\n",
        "  \n",
        "  for word in (sentence):\n",
        "    \n",
        "    for character in word:\n",
        "      \n",
        "      if character.isalpha() and character.isupper():\n",
        "        count_upper+=1\n",
        "      \n",
        "      if character.isalpha():\n",
        "        len_sentence += 1\n",
        "  \n",
        "  print (f\"Sample String : {s} \\nExpected Output : \\nNo. of Upper case characters : {count_upper} \\nNo. of Lower case Characters : {len_sentence-count_upper}\")\n",
        "    "
      ],
      "execution_count": 0,
      "outputs": []
    },
    {
      "metadata": {
        "id": "ErTUc73jDgwf",
        "colab_type": "code",
        "colab": {
          "autoexec": {
            "startup": false,
            "wait_interval": 0
          },
          "base_uri": "https://localhost:8080/",
          "height": 86
        },
        "outputId": "0d8992a7-f228-4fac-88e5-916be82fcce6",
        "executionInfo": {
          "status": "ok",
          "timestamp": 1531480501171,
          "user_tz": -330,
          "elapsed": 840,
          "user": {
            "displayName": "ankur raja",
            "photoUrl": "//lh3.googleusercontent.com/-P3hjYlx442I/AAAAAAAAAAI/AAAAAAAAAJ8/_AwxqjC6DhE/s50-c-k-no/photo.jpg",
            "userId": "111833698361307138454"
          }
        }
      },
      "cell_type": "code",
      "source": [
        "s = 'Hello Mr. Rogers, how are you this fine Tuesday?'\n",
        "up_low(s)"
      ],
      "execution_count": 25,
      "outputs": [
        {
          "output_type": "stream",
          "text": [
            "Sample String : Hello Mr. Rogers, how are you this fine Tuesday? \n",
            "Expected Output : \n",
            "No. of Upper case characters : 4 \n",
            "No. of Lower case Characters : 33\n"
          ],
          "name": "stdout"
        }
      ]
    },
    {
      "metadata": {
        "id": "CsyRHeY1ViiM",
        "colab_type": "code",
        "colab": {
          "autoexec": {
            "startup": false,
            "wait_interval": 0
          }
        }
      },
      "cell_type": "code",
      "source": [
        ""
      ],
      "execution_count": 0,
      "outputs": []
    },
    {
      "metadata": {
        "id": "fJF4SC5WDgwl",
        "colab_type": "text"
      },
      "cell_type": "markdown",
      "source": [
        "____\n",
        "**Write a Python function that takes a list and returns a new list with unique elements of the first list.**\n",
        "\n",
        "    Sample List : [1,1,1,1,2,2,3,3,3,3,4,5]\n",
        "    Unique List : [1, 2, 3, 4, 5]"
      ]
    },
    {
      "metadata": {
        "id": "Xlf0jKt3Dgwm",
        "colab_type": "code",
        "colab": {
          "autoexec": {
            "startup": false,
            "wait_interval": 0
          }
        }
      },
      "cell_type": "code",
      "source": [
        "def unique_list(lst):\n",
        "#     pass\n",
        "  return list(set(lst))"
      ],
      "execution_count": 0,
      "outputs": []
    },
    {
      "metadata": {
        "id": "Jh6aNICiDgwp",
        "colab_type": "code",
        "colab": {
          "autoexec": {
            "startup": false,
            "wait_interval": 0
          },
          "base_uri": "https://localhost:8080/",
          "height": 35
        },
        "outputId": "a7759752-5adb-4115-81bf-bc63046da964",
        "executionInfo": {
          "status": "ok",
          "timestamp": 1531480554326,
          "user_tz": -330,
          "elapsed": 1346,
          "user": {
            "displayName": "ankur raja",
            "photoUrl": "//lh3.googleusercontent.com/-P3hjYlx442I/AAAAAAAAAAI/AAAAAAAAAJ8/_AwxqjC6DhE/s50-c-k-no/photo.jpg",
            "userId": "111833698361307138454"
          }
        }
      },
      "cell_type": "code",
      "source": [
        "unique_list([1,1,1,1,2,2,3,3,3,3,4,5])"
      ],
      "execution_count": 27,
      "outputs": [
        {
          "output_type": "execute_result",
          "data": {
            "text/plain": [
              "[1, 2, 3, 4, 5]"
            ]
          },
          "metadata": {
            "tags": []
          },
          "execution_count": 27
        }
      ]
    },
    {
      "metadata": {
        "id": "mVcVkN7qDgww",
        "colab_type": "text"
      },
      "cell_type": "markdown",
      "source": [
        "____\n",
        "**Write a Python function to multiply all the numbers in a list.**\n",
        "\n",
        "    Sample List : [1, 2, 3, -4]\n",
        "    Expected Output : -24"
      ]
    },
    {
      "metadata": {
        "id": "YjaH-I32Dgwx",
        "colab_type": "code",
        "colab": {
          "autoexec": {
            "startup": false,
            "wait_interval": 0
          }
        }
      },
      "cell_type": "code",
      "source": [
        "def multiply(numbers):  \n",
        "#     pass\n",
        "  pro=1\n",
        "  \n",
        "  for i in numbers:\n",
        "    pro=pro*i\n",
        "  \n",
        "  return pro\n",
        "  \n",
        "  "
      ],
      "execution_count": 0,
      "outputs": []
    },
    {
      "metadata": {
        "id": "I7FjTCYTDgw0",
        "colab_type": "code",
        "colab": {
          "autoexec": {
            "startup": false,
            "wait_interval": 0
          },
          "base_uri": "https://localhost:8080/",
          "height": 35
        },
        "outputId": "cfd3d5a7-a5a6-460d-fbbc-06f6026b5161",
        "executionInfo": {
          "status": "ok",
          "timestamp": 1531480628589,
          "user_tz": -330,
          "elapsed": 891,
          "user": {
            "displayName": "ankur raja",
            "photoUrl": "//lh3.googleusercontent.com/-P3hjYlx442I/AAAAAAAAAAI/AAAAAAAAAJ8/_AwxqjC6DhE/s50-c-k-no/photo.jpg",
            "userId": "111833698361307138454"
          }
        }
      },
      "cell_type": "code",
      "source": [
        "multiply([1,2,3,-4])"
      ],
      "execution_count": 33,
      "outputs": [
        {
          "output_type": "execute_result",
          "data": {
            "text/plain": [
              "-24"
            ]
          },
          "metadata": {
            "tags": []
          },
          "execution_count": 33
        }
      ]
    },
    {
      "metadata": {
        "id": "OTX4Kv4yDgw5",
        "colab_type": "text"
      },
      "cell_type": "markdown",
      "source": [
        "____\n",
        "**Write a Python function that checks whether a passed in string is palindrome or not.**\n",
        "\n",
        "Note: A palindrome is word, phrase, or sequence that reads the same backward as forward, e.g., madam or nurses run."
      ]
    },
    {
      "metadata": {
        "id": "UQka2YEmDgw6",
        "colab_type": "code",
        "colab": {
          "autoexec": {
            "startup": false,
            "wait_interval": 0
          }
        }
      },
      "cell_type": "code",
      "source": [
        "def palindrome(s):\n",
        "#     pass\n",
        "  j = len(s)-1\n",
        "  i=0\n",
        "  \n",
        "  while i<j:\n",
        "    if(s[i]!=s[j]):\n",
        "      return False\n",
        "    i+=1\n",
        "    j-=1\n",
        "    \n",
        "  return True\n",
        "  "
      ],
      "execution_count": 0,
      "outputs": []
    },
    {
      "metadata": {
        "id": "8XIpBWmTDgw-",
        "colab_type": "code",
        "colab": {
          "autoexec": {
            "startup": false,
            "wait_interval": 0
          },
          "base_uri": "https://localhost:8080/",
          "height": 35
        },
        "outputId": "a6fea669-6466-4c70-a739-4831801f10fa",
        "executionInfo": {
          "status": "ok",
          "timestamp": 1531480728625,
          "user_tz": -330,
          "elapsed": 863,
          "user": {
            "displayName": "ankur raja",
            "photoUrl": "//lh3.googleusercontent.com/-P3hjYlx442I/AAAAAAAAAAI/AAAAAAAAAJ8/_AwxqjC6DhE/s50-c-k-no/photo.jpg",
            "userId": "111833698361307138454"
          }
        }
      },
      "cell_type": "code",
      "source": [
        "palindrome('helleh')"
      ],
      "execution_count": 37,
      "outputs": [
        {
          "output_type": "execute_result",
          "data": {
            "text/plain": [
              "True"
            ]
          },
          "metadata": {
            "tags": []
          },
          "execution_count": 37
        }
      ]
    },
    {
      "metadata": {
        "id": "xLOOBBScDgxD",
        "colab_type": "text"
      },
      "cell_type": "markdown",
      "source": [
        "____\n",
        "#### Hard:\n",
        "\n",
        "**Write a Python function to check whether a string is pangram or not.**\n",
        "\n",
        "    Note : Pangrams are words or sentences containing every letter of the alphabet at least once.\n",
        "    For example : \"The quick brown fox jumps over the lazy dog\"\n",
        "\n",
        "Hint: Look at the string module"
      ]
    },
    {
      "metadata": {
        "id": "2TAmmQfQDgxD",
        "colab_type": "code",
        "colab": {
          "autoexec": {
            "startup": false,
            "wait_interval": 0
          }
        }
      },
      "cell_type": "code",
      "source": [
        "import string\n",
        "\n",
        "def ispangram(str1, alphabet=string.ascii_lowercase):\n",
        "#     pass\n",
        "  dict = {}\n",
        "  \n",
        "  for letter in alphabet:\n",
        "    dict[letter] = False\n",
        "    \n",
        "  for word in str1:\n",
        "    for letter in word:\n",
        "      dict[letter] = True\n",
        "  \n",
        "  for letter in alphabet:\n",
        "    if dict[letter]==False:\n",
        "      return False\n",
        "  \n",
        "  return True\n",
        "    "
      ],
      "execution_count": 0,
      "outputs": []
    },
    {
      "metadata": {
        "id": "pfCKgbMlDgxG",
        "colab_type": "code",
        "colab": {
          "autoexec": {
            "startup": false,
            "wait_interval": 0
          },
          "base_uri": "https://localhost:8080/",
          "height": 35
        },
        "outputId": "4015c7bc-ce8d-4ad2-8d41-a69ea88c43a0",
        "executionInfo": {
          "status": "ok",
          "timestamp": 1531480994539,
          "user_tz": -330,
          "elapsed": 876,
          "user": {
            "displayName": "ankur raja",
            "photoUrl": "//lh3.googleusercontent.com/-P3hjYlx442I/AAAAAAAAAAI/AAAAAAAAAJ8/_AwxqjC6DhE/s50-c-k-no/photo.jpg",
            "userId": "111833698361307138454"
          }
        }
      },
      "cell_type": "code",
      "source": [
        "ispangram(\"The quick brown fox jumps over the lazy dog\")"
      ],
      "execution_count": 39,
      "outputs": [
        {
          "output_type": "execute_result",
          "data": {
            "text/plain": [
              "True"
            ]
          },
          "metadata": {
            "tags": []
          },
          "execution_count": 39
        }
      ]
    },
    {
      "metadata": {
        "id": "tS8jMVE6DgxQ",
        "colab_type": "code",
        "colab": {
          "autoexec": {
            "startup": false,
            "wait_interval": 0
          },
          "base_uri": "https://localhost:8080/",
          "height": 35
        },
        "outputId": "52781d72-fcec-4904-a057-52629159e22b",
        "executionInfo": {
          "status": "ok",
          "timestamp": 1531480997815,
          "user_tz": -330,
          "elapsed": 852,
          "user": {
            "displayName": "ankur raja",
            "photoUrl": "//lh3.googleusercontent.com/-P3hjYlx442I/AAAAAAAAAAI/AAAAAAAAAJ8/_AwxqjC6DhE/s50-c-k-no/photo.jpg",
            "userId": "111833698361307138454"
          }
        }
      },
      "cell_type": "code",
      "source": [
        "string.ascii_lowercase"
      ],
      "execution_count": 40,
      "outputs": [
        {
          "output_type": "execute_result",
          "data": {
            "text/plain": [
              "'abcdefghijklmnopqrstuvwxyz'"
            ]
          },
          "metadata": {
            "tags": []
          },
          "execution_count": 40
        }
      ]
    },
    {
      "metadata": {
        "id": "Ztkb3W20DgxU",
        "colab_type": "text"
      },
      "cell_type": "markdown",
      "source": [
        "#### Great Job!"
      ]
    }
  ]
}