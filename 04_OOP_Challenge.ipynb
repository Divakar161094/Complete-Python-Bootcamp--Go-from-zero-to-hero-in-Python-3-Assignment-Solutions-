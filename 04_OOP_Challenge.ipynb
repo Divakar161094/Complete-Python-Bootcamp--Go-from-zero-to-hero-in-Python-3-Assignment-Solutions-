{
  "nbformat": 4,
  "nbformat_minor": 0,
  "metadata": {
    "colab": {
      "name": "04-OOP Challenge.ipynb.txt",
      "version": "0.3.2",
      "views": {},
      "default_view": {},
      "provenance": []
    },
    "kernelspec": {
      "display_name": "Python 3",
      "language": "python",
      "name": "python3"
    }
  },
  "cells": [
    {
      "metadata": {
        "id": "N-OhPL5VK12H",
        "colab_type": "text"
      },
      "cell_type": "markdown",
      "source": [
        "# Object Oriented Programming Challenge\n",
        "\n",
        "For this challenge, create a bank account class that has two attributes:\n",
        "\n",
        "* owner\n",
        "* balance\n",
        "\n",
        "and two methods:\n",
        "\n",
        "* deposit\n",
        "* withdraw\n",
        "\n",
        "As an added requirement, withdrawals may not exceed the available balance.\n",
        "\n",
        "Instantiate your class, make several deposits and withdrawals, and test to make sure the account can't be overdrawn."
      ]
    },
    {
      "metadata": {
        "id": "iJmwFrd2K12J",
        "colab_type": "code",
        "colab": {
          "autoexec": {
            "startup": false,
            "wait_interval": 0
          }
        }
      },
      "cell_type": "code",
      "source": [
        "class Account:\n",
        "#     pass\n",
        "  def __init__(self,owner,balance):\n",
        "    self.owner =owner\n",
        "    self.balance = balance\n",
        "  \n",
        "  def deposit(self,amount):\n",
        "    self.balance+=amount\n",
        "    print(\"Deposit Accepted\")\n",
        "  \n",
        "  def withdraw(self,amount):\n",
        "    if(self.balance>=amount):\n",
        "      self.balance-=amount\n",
        "      print (\"Withdrawal Accepted\")\n",
        "    else:\n",
        "      print (\"Funds Unavailable!\")\n",
        "    \n",
        "  def __str__(self):\n",
        "    return ('Account owner: {} \\nAccount balance: ${}'.format(self.owner,self.balance))"
      ],
      "execution_count": 0,
      "outputs": []
    },
    {
      "metadata": {
        "id": "u67YJivULghs",
        "colab_type": "code",
        "colab": {
          "autoexec": {
            "startup": false,
            "wait_interval": 0
          }
        }
      },
      "cell_type": "code",
      "source": [
        ""
      ],
      "execution_count": 0,
      "outputs": []
    },
    {
      "metadata": {
        "id": "G77VHw0CK12M",
        "colab_type": "code",
        "colab": {
          "autoexec": {
            "startup": false,
            "wait_interval": 0
          }
        }
      },
      "cell_type": "code",
      "source": [
        "# 1. Instantiate the class\n",
        "acct1 = Account('Jose',100)"
      ],
      "execution_count": 0,
      "outputs": []
    },
    {
      "metadata": {
        "id": "0mhUdMTWK12P",
        "colab_type": "code",
        "colab": {
          "autoexec": {
            "startup": false,
            "wait_interval": 0
          },
          "base_uri": "https://localhost:8080/",
          "height": 52
        },
        "outputId": "8ccb1599-aab9-47d9-ad76-77169ea6c0e7",
        "executionInfo": {
          "status": "ok",
          "timestamp": 1531293381951,
          "user_tz": -330,
          "elapsed": 961,
          "user": {
            "displayName": "ankur raja",
            "photoUrl": "//lh3.googleusercontent.com/-P3hjYlx442I/AAAAAAAAAAI/AAAAAAAAAJ8/_AwxqjC6DhE/s50-c-k-no/photo.jpg",
            "userId": "111833698361307138454"
          }
        }
      },
      "cell_type": "code",
      "source": [
        "# 2. Print the object\n",
        "print(acct1)"
      ],
      "execution_count": 21,
      "outputs": [
        {
          "output_type": "stream",
          "text": [
            "Account owner: Jose \n",
            "Account balance: $100\n"
          ],
          "name": "stdout"
        }
      ]
    },
    {
      "metadata": {
        "id": "r7b3tXELK12W",
        "colab_type": "code",
        "colab": {
          "autoexec": {
            "startup": false,
            "wait_interval": 0
          },
          "base_uri": "https://localhost:8080/",
          "height": 35
        },
        "outputId": "a88e77ad-5cb4-4161-e82f-3664871c8531",
        "executionInfo": {
          "status": "ok",
          "timestamp": 1531293387413,
          "user_tz": -330,
          "elapsed": 852,
          "user": {
            "displayName": "ankur raja",
            "photoUrl": "//lh3.googleusercontent.com/-P3hjYlx442I/AAAAAAAAAAI/AAAAAAAAAJ8/_AwxqjC6DhE/s50-c-k-no/photo.jpg",
            "userId": "111833698361307138454"
          }
        }
      },
      "cell_type": "code",
      "source": [
        "# 3. Show the account owner attribute\n",
        "acct1.owner"
      ],
      "execution_count": 22,
      "outputs": [
        {
          "output_type": "execute_result",
          "data": {
            "text/plain": [
              "'Jose'"
            ]
          },
          "metadata": {
            "tags": []
          },
          "execution_count": 22
        }
      ]
    },
    {
      "metadata": {
        "id": "3bJXP445K12a",
        "colab_type": "code",
        "colab": {
          "autoexec": {
            "startup": false,
            "wait_interval": 0
          },
          "base_uri": "https://localhost:8080/",
          "height": 35
        },
        "outputId": "09552066-9fc9-453c-b2c2-6aa3da344904",
        "executionInfo": {
          "status": "ok",
          "timestamp": 1531293390166,
          "user_tz": -330,
          "elapsed": 858,
          "user": {
            "displayName": "ankur raja",
            "photoUrl": "//lh3.googleusercontent.com/-P3hjYlx442I/AAAAAAAAAAI/AAAAAAAAAJ8/_AwxqjC6DhE/s50-c-k-no/photo.jpg",
            "userId": "111833698361307138454"
          }
        }
      },
      "cell_type": "code",
      "source": [
        "# 4. Show the account balance attribute\n",
        "acct1.balance"
      ],
      "execution_count": 23,
      "outputs": [
        {
          "output_type": "execute_result",
          "data": {
            "text/plain": [
              "100"
            ]
          },
          "metadata": {
            "tags": []
          },
          "execution_count": 23
        }
      ]
    },
    {
      "metadata": {
        "id": "QuB5_09iK12f",
        "colab_type": "code",
        "colab": {
          "autoexec": {
            "startup": false,
            "wait_interval": 0
          },
          "base_uri": "https://localhost:8080/",
          "height": 35
        },
        "outputId": "b676d195-607a-4246-83dd-429a15e20120",
        "executionInfo": {
          "status": "ok",
          "timestamp": 1531293392999,
          "user_tz": -330,
          "elapsed": 851,
          "user": {
            "displayName": "ankur raja",
            "photoUrl": "//lh3.googleusercontent.com/-P3hjYlx442I/AAAAAAAAAAI/AAAAAAAAAJ8/_AwxqjC6DhE/s50-c-k-no/photo.jpg",
            "userId": "111833698361307138454"
          }
        }
      },
      "cell_type": "code",
      "source": [
        "# 5. Make a series of deposits and withdrawals\n",
        "acct1.deposit(50)"
      ],
      "execution_count": 24,
      "outputs": [
        {
          "output_type": "stream",
          "text": [
            "Deposit Accepted\n"
          ],
          "name": "stdout"
        }
      ]
    },
    {
      "metadata": {
        "id": "s01_5fw_K12j",
        "colab_type": "code",
        "colab": {
          "autoexec": {
            "startup": false,
            "wait_interval": 0
          },
          "base_uri": "https://localhost:8080/",
          "height": 35
        },
        "outputId": "e558d1af-2ca3-40e1-da7e-87c4465d1ae8",
        "executionInfo": {
          "status": "ok",
          "timestamp": 1531293399843,
          "user_tz": -330,
          "elapsed": 944,
          "user": {
            "displayName": "ankur raja",
            "photoUrl": "//lh3.googleusercontent.com/-P3hjYlx442I/AAAAAAAAAAI/AAAAAAAAAJ8/_AwxqjC6DhE/s50-c-k-no/photo.jpg",
            "userId": "111833698361307138454"
          }
        }
      },
      "cell_type": "code",
      "source": [
        "acct1.withdraw(75)"
      ],
      "execution_count": 25,
      "outputs": [
        {
          "output_type": "stream",
          "text": [
            "Withdrawal Accepted\n"
          ],
          "name": "stdout"
        }
      ]
    },
    {
      "metadata": {
        "id": "uJRW33kxK12o",
        "colab_type": "code",
        "colab": {
          "autoexec": {
            "startup": false,
            "wait_interval": 0
          },
          "base_uri": "https://localhost:8080/",
          "height": 35
        },
        "outputId": "c39a1259-054c-4c47-f274-5fe235df3a4a",
        "executionInfo": {
          "status": "ok",
          "timestamp": 1531293409466,
          "user_tz": -330,
          "elapsed": 892,
          "user": {
            "displayName": "ankur raja",
            "photoUrl": "//lh3.googleusercontent.com/-P3hjYlx442I/AAAAAAAAAAI/AAAAAAAAAJ8/_AwxqjC6DhE/s50-c-k-no/photo.jpg",
            "userId": "111833698361307138454"
          }
        }
      },
      "cell_type": "code",
      "source": [
        "# 6. Make a withdrawal that exceeds the available balance\n",
        "acct1.withdraw(500)"
      ],
      "execution_count": 26,
      "outputs": [
        {
          "output_type": "stream",
          "text": [
            "Funds Unavailable!\n"
          ],
          "name": "stdout"
        }
      ]
    },
    {
      "metadata": {
        "id": "KzLnfEFAK12r",
        "colab_type": "text"
      },
      "cell_type": "markdown",
      "source": [
        "## Good job!"
      ]
    }
  ]
}