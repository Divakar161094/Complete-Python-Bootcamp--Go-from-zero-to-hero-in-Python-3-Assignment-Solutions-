{
  "nbformat": 4,
  "nbformat_minor": 0,
  "metadata": {
    "colab": {
      "name": "03-Function Practice Exercises.ipynb",
      "version": "0.3.2",
      "views": {},
      "default_view": {},
      "provenance": []
    },
    "kernelspec": {
      "display_name": "Python 3",
      "language": "python",
      "name": "python3"
    }
  },
  "cells": [
    {
      "metadata": {
        "id": "H2-ySpIOO4ez",
        "colab_type": "text"
      },
      "cell_type": "markdown",
      "source": [
        "# Function Practice Exercises\n",
        "\n",
        "Problems are arranged in increasing difficulty:\n",
        "* Warmup - these can be solved using basic comparisons and methods\n",
        "* Level 1 - these may involve if/then conditional statements and simple methods\n",
        "* Level 2 - these may require iterating over sequences, usually with some kind of loop\n",
        "* Challenging - these will take some creativity to solve"
      ]
    },
    {
      "metadata": {
        "id": "T_zpLKEFO4e1",
        "colab_type": "text"
      },
      "cell_type": "markdown",
      "source": [
        "## WARMUP SECTION:"
      ]
    },
    {
      "metadata": {
        "id": "ldwRxqg3O4e1",
        "colab_type": "text"
      },
      "cell_type": "markdown",
      "source": [
        "#### LESSER OF TWO EVENS: Write a function that returns the lesser of two given numbers *if* both numbers are even, but returns the greater if one or both numbers are odd\n",
        "    lesser_of_two_evens(2,4) --> 2\n",
        "    lesser_of_two_evens(2,5) --> 5"
      ]
    },
    {
      "metadata": {
        "id": "vp4AJx0MO4e2",
        "colab_type": "code",
        "colab": {
          "autoexec": {
            "startup": false,
            "wait_interval": 0
          }
        }
      },
      "cell_type": "code",
      "source": [
        "def lesser_of_two_evens(a,b):\n",
        "  \n",
        "  if a%2==0 and b%2==0:\n",
        "    \n",
        "    if(a<b):\n",
        "      return a\n",
        "    else:\n",
        "      return b\n",
        "    \n",
        "  else:\n",
        "    \n",
        "    if(a>b):\n",
        "      return a\n",
        "    else:\n",
        "      return b\n",
        "    \n",
        "#     pass"
      ],
      "execution_count": 0,
      "outputs": []
    },
    {
      "metadata": {
        "id": "y2CWqrvDO4e6",
        "colab_type": "code",
        "colab": {
          "autoexec": {
            "startup": false,
            "wait_interval": 0
          },
          "base_uri": "https://localhost:8080/",
          "height": 35
        },
        "outputId": "66633512-e17b-49c6-f337-7e6fc8db0da3",
        "executionInfo": {
          "status": "ok",
          "timestamp": 1531465783214,
          "user_tz": -330,
          "elapsed": 874,
          "user": {
            "displayName": "ankur raja",
            "photoUrl": "//lh3.googleusercontent.com/-P3hjYlx442I/AAAAAAAAAAI/AAAAAAAAAJ8/_AwxqjC6DhE/s50-c-k-no/photo.jpg",
            "userId": "111833698361307138454"
          }
        }
      },
      "cell_type": "code",
      "source": [
        "# Check\n",
        "lesser_of_two_evens(2,4)"
      ],
      "execution_count": 2,
      "outputs": [
        {
          "output_type": "execute_result",
          "data": {
            "text/plain": [
              "2"
            ]
          },
          "metadata": {
            "tags": []
          },
          "execution_count": 2
        }
      ]
    },
    {
      "metadata": {
        "id": "kviFQlFmO4e-",
        "colab_type": "code",
        "colab": {
          "autoexec": {
            "startup": false,
            "wait_interval": 0
          },
          "base_uri": "https://localhost:8080/",
          "height": 35
        },
        "outputId": "ca16e916-6531-4a18-d643-b652c2124d28",
        "executionInfo": {
          "status": "ok",
          "timestamp": 1531465787263,
          "user_tz": -330,
          "elapsed": 963,
          "user": {
            "displayName": "ankur raja",
            "photoUrl": "//lh3.googleusercontent.com/-P3hjYlx442I/AAAAAAAAAAI/AAAAAAAAAJ8/_AwxqjC6DhE/s50-c-k-no/photo.jpg",
            "userId": "111833698361307138454"
          }
        }
      },
      "cell_type": "code",
      "source": [
        "# Check\n",
        "lesser_of_two_evens(2,5)"
      ],
      "execution_count": 3,
      "outputs": [
        {
          "output_type": "execute_result",
          "data": {
            "text/plain": [
              "5"
            ]
          },
          "metadata": {
            "tags": []
          },
          "execution_count": 3
        }
      ]
    },
    {
      "metadata": {
        "id": "WK4vAtflO4fA",
        "colab_type": "text"
      },
      "cell_type": "markdown",
      "source": [
        "#### ANIMAL CRACKERS: Write a function takes a two-word string and returns True if both words begin with same letter\n",
        "    animal_crackers('Levelheaded Llama') --> True\n",
        "    animal_crackers('Crazy Kangaroo') --> False"
      ]
    },
    {
      "metadata": {
        "id": "wZDFuiSfO4fB",
        "colab_type": "code",
        "colab": {
          "autoexec": {
            "startup": false,
            "wait_interval": 0
          }
        }
      },
      "cell_type": "code",
      "source": [
        "def animal_crackers(text):\n",
        "  \n",
        "  a,b=text.lower().split()\n",
        "  \n",
        "  if a[0]==b[0]:\n",
        "    return True\n",
        "  \n",
        "  return False\n",
        "\n",
        "  # return a[0]==b[0]\n",
        "#     pass"
      ],
      "execution_count": 0,
      "outputs": []
    },
    {
      "metadata": {
        "id": "7-7MOrf8O4fF",
        "colab_type": "code",
        "colab": {
          "autoexec": {
            "startup": false,
            "wait_interval": 0
          },
          "base_uri": "https://localhost:8080/",
          "height": 35
        },
        "outputId": "9fb508d4-6416-4b63-d73e-37bc48c901a2",
        "executionInfo": {
          "status": "ok",
          "timestamp": 1531468977652,
          "user_tz": -330,
          "elapsed": 843,
          "user": {
            "displayName": "ankur raja",
            "photoUrl": "//lh3.googleusercontent.com/-P3hjYlx442I/AAAAAAAAAAI/AAAAAAAAAJ8/_AwxqjC6DhE/s50-c-k-no/photo.jpg",
            "userId": "111833698361307138454"
          }
        }
      },
      "cell_type": "code",
      "source": [
        "# Check\n",
        "animal_crackers('Levelheaded Llama')"
      ],
      "execution_count": 100,
      "outputs": [
        {
          "output_type": "execute_result",
          "data": {
            "text/plain": [
              "True"
            ]
          },
          "metadata": {
            "tags": []
          },
          "execution_count": 100
        }
      ]
    },
    {
      "metadata": {
        "id": "U86uivMTO4fI",
        "colab_type": "code",
        "colab": {
          "autoexec": {
            "startup": false,
            "wait_interval": 0
          },
          "base_uri": "https://localhost:8080/",
          "height": 35
        },
        "outputId": "a528f424-e2ee-43ba-e94a-fec28251841b",
        "executionInfo": {
          "status": "ok",
          "timestamp": 1531468980059,
          "user_tz": -330,
          "elapsed": 841,
          "user": {
            "displayName": "ankur raja",
            "photoUrl": "//lh3.googleusercontent.com/-P3hjYlx442I/AAAAAAAAAAI/AAAAAAAAAJ8/_AwxqjC6DhE/s50-c-k-no/photo.jpg",
            "userId": "111833698361307138454"
          }
        }
      },
      "cell_type": "code",
      "source": [
        "# Check\n",
        "animal_crackers('Crazy Kangaroo')"
      ],
      "execution_count": 101,
      "outputs": [
        {
          "output_type": "execute_result",
          "data": {
            "text/plain": [
              "False"
            ]
          },
          "metadata": {
            "tags": []
          },
          "execution_count": 101
        }
      ]
    },
    {
      "metadata": {
        "id": "Cff8R6EbO4fK",
        "colab_type": "text"
      },
      "cell_type": "markdown",
      "source": [
        "#### MAKES TWENTY: Given two integers, return True if the sum of the integers is 20 *or* if one of the integers is 20. If not, return False\n",
        "\n",
        "    makes_twenty(20,10) --> True\n",
        "    makes_twenty(12,8) --> True\n",
        "    makes_twenty(2,3) --> False"
      ]
    },
    {
      "metadata": {
        "id": "IcstNdcvO4fM",
        "colab_type": "code",
        "colab": {
          "autoexec": {
            "startup": false,
            "wait_interval": 0
          },
          "base_uri": "https://localhost:8080/",
          "height": 37
        },
        "outputId": "8054b407-0886-4a58-dc5d-7039bc0539eb",
        "executionInfo": {
          "status": "ok",
          "timestamp": 1531465958880,
          "user_tz": -330,
          "elapsed": 1006,
          "user": {
            "displayName": "ankur raja",
            "photoUrl": "//lh3.googleusercontent.com/-P3hjYlx442I/AAAAAAAAAAI/AAAAAAAAAJ8/_AwxqjC6DhE/s50-c-k-no/photo.jpg",
            "userId": "111833698361307138454"
          }
        }
      },
      "cell_type": "code",
      "source": [
        "def makes_twenty(n1,n2):\n",
        "#     pass\n",
        "  if n1==20 or n2==20 or n1+n2==20:\n",
        "    return True\n",
        "  \n",
        "  return False"
      ],
      "execution_count": 11,
      "outputs": []
    },
    {
      "metadata": {
        "id": "ZJJ4B4tWO4fU",
        "colab_type": "code",
        "colab": {
          "autoexec": {
            "startup": false,
            "wait_interval": 0
          },
          "base_uri": "https://localhost:8080/",
          "height": 35
        },
        "outputId": "9d250a76-c200-4aa1-c7f6-6b0b57727c81",
        "executionInfo": {
          "status": "ok",
          "timestamp": 1531465960831,
          "user_tz": -330,
          "elapsed": 853,
          "user": {
            "displayName": "ankur raja",
            "photoUrl": "//lh3.googleusercontent.com/-P3hjYlx442I/AAAAAAAAAAI/AAAAAAAAAJ8/_AwxqjC6DhE/s50-c-k-no/photo.jpg",
            "userId": "111833698361307138454"
          }
        }
      },
      "cell_type": "code",
      "source": [
        "# Check\n",
        "makes_twenty(20,10)"
      ],
      "execution_count": 12,
      "outputs": [
        {
          "output_type": "execute_result",
          "data": {
            "text/plain": [
              "True"
            ]
          },
          "metadata": {
            "tags": []
          },
          "execution_count": 12
        }
      ]
    },
    {
      "metadata": {
        "id": "SMkYxcXwO4fa",
        "colab_type": "code",
        "colab": {
          "autoexec": {
            "startup": false,
            "wait_interval": 0
          },
          "base_uri": "https://localhost:8080/",
          "height": 35
        },
        "outputId": "7999ae49-3821-4e37-d505-1aa3c103486a",
        "executionInfo": {
          "status": "ok",
          "timestamp": 1531465964619,
          "user_tz": -330,
          "elapsed": 902,
          "user": {
            "displayName": "ankur raja",
            "photoUrl": "//lh3.googleusercontent.com/-P3hjYlx442I/AAAAAAAAAAI/AAAAAAAAAJ8/_AwxqjC6DhE/s50-c-k-no/photo.jpg",
            "userId": "111833698361307138454"
          }
        }
      },
      "cell_type": "code",
      "source": [
        "# Check\n",
        "makes_twenty(2,3)"
      ],
      "execution_count": 13,
      "outputs": [
        {
          "output_type": "execute_result",
          "data": {
            "text/plain": [
              "False"
            ]
          },
          "metadata": {
            "tags": []
          },
          "execution_count": 13
        }
      ]
    },
    {
      "metadata": {
        "id": "q_CC34aNO4fe",
        "colab_type": "text"
      },
      "cell_type": "markdown",
      "source": [
        "# LEVEL 1 PROBLEMS"
      ]
    },
    {
      "metadata": {
        "id": "jF1N7Pk4O4ff",
        "colab_type": "text"
      },
      "cell_type": "markdown",
      "source": [
        "#### OLD MACDONALD: Write a function that capitalizes the first and fourth letters of a name\n",
        "     \n",
        "    old_macdonald('macdonald') --> MacDonald\n",
        "    \n",
        "Note: `'macdonald'.capitalize()` returns `'Macdonald'`"
      ]
    },
    {
      "metadata": {
        "id": "6LjX_9CrO4fg",
        "colab_type": "code",
        "colab": {
          "autoexec": {
            "startup": false,
            "wait_interval": 0
          },
          "base_uri": "https://localhost:8080/",
          "height": 37
        },
        "outputId": "fecd59db-9de1-4d5f-c666-883d9de4148b",
        "executionInfo": {
          "status": "ok",
          "timestamp": 1531466071419,
          "user_tz": -330,
          "elapsed": 986,
          "user": {
            "displayName": "ankur raja",
            "photoUrl": "//lh3.googleusercontent.com/-P3hjYlx442I/AAAAAAAAAAI/AAAAAAAAAJ8/_AwxqjC6DhE/s50-c-k-no/photo.jpg",
            "userId": "111833698361307138454"
          }
        }
      },
      "cell_type": "code",
      "source": [
        "def old_macdonald(name):\n",
        "#     pass\n",
        "  s =\"\"\n",
        "  \n",
        "  i=1\n",
        "  \n",
        "  for char in name:\n",
        "    if i==1 or i==4:\n",
        "      char = char.upper()\n",
        "    i+=1\n",
        "    s+=char\n",
        "  \n",
        "  return s"
      ],
      "execution_count": 18,
      "outputs": []
    },
    {
      "metadata": {
        "id": "VRYsq_PjO4fj",
        "colab_type": "code",
        "colab": {
          "autoexec": {
            "startup": false,
            "wait_interval": 0
          },
          "base_uri": "https://localhost:8080/",
          "height": 35
        },
        "outputId": "41c08806-de95-4366-a304-6966ba37eee3",
        "executionInfo": {
          "status": "ok",
          "timestamp": 1531466074414,
          "user_tz": -330,
          "elapsed": 1246,
          "user": {
            "displayName": "ankur raja",
            "photoUrl": "//lh3.googleusercontent.com/-P3hjYlx442I/AAAAAAAAAAI/AAAAAAAAAJ8/_AwxqjC6DhE/s50-c-k-no/photo.jpg",
            "userId": "111833698361307138454"
          }
        }
      },
      "cell_type": "code",
      "source": [
        "# Check\n",
        "old_macdonald('macdonald')"
      ],
      "execution_count": 19,
      "outputs": [
        {
          "output_type": "execute_result",
          "data": {
            "text/plain": [
              "'MacDonald'"
            ]
          },
          "metadata": {
            "tags": []
          },
          "execution_count": 19
        }
      ]
    },
    {
      "metadata": {
        "id": "k_iCGPHzO4fn",
        "colab_type": "text"
      },
      "cell_type": "markdown",
      "source": [
        "#### MASTER YODA: Given a sentence, return a sentence with the words reversed\n",
        "\n",
        "    master_yoda('I am home') --> 'home am I'\n",
        "    master_yoda('We are ready') --> 'ready are We'\n",
        "    \n",
        "Note: The .join() method may be useful here. The .join() method allows you to join together strings in a list with some connector string. For example, some uses of the .join() method:\n",
        "\n",
        "    >>> \"--\".join(['a','b','c'])\n",
        "    >>> 'a--b--c'\n",
        "\n",
        "This means if you had a list of words you wanted to turn back into a sentence, you could just join them with a single space string:\n",
        "\n",
        "    >>> \" \".join(['Hello','world'])\n",
        "    >>> \"Hello world\""
      ]
    },
    {
      "metadata": {
        "id": "pWl8Q_SLO4fo",
        "colab_type": "code",
        "colab": {
          "autoexec": {
            "startup": false,
            "wait_interval": 0
          },
          "base_uri": "https://localhost:8080/",
          "height": 37
        },
        "outputId": "3b3171d2-02eb-4819-9cd6-dbbb0274b832",
        "executionInfo": {
          "status": "ok",
          "timestamp": 1531466256766,
          "user_tz": -330,
          "elapsed": 1037,
          "user": {
            "displayName": "ankur raja",
            "photoUrl": "//lh3.googleusercontent.com/-P3hjYlx442I/AAAAAAAAAAI/AAAAAAAAAJ8/_AwxqjC6DhE/s50-c-k-no/photo.jpg",
            "userId": "111833698361307138454"
          }
        }
      },
      "cell_type": "code",
      "source": [
        "def master_yoda(text):\n",
        "#     pass\n",
        "  text = text.split()\n",
        "  text.reverse()\n",
        " \n",
        "  return  \" \".join(text)"
      ],
      "execution_count": 24,
      "outputs": []
    },
    {
      "metadata": {
        "id": "xb1wqW8YO4fs",
        "colab_type": "code",
        "colab": {
          "autoexec": {
            "startup": false,
            "wait_interval": 0
          },
          "base_uri": "https://localhost:8080/",
          "height": 35
        },
        "outputId": "afbefb02-d83e-482b-ec4a-372e8c7900a2",
        "executionInfo": {
          "status": "ok",
          "timestamp": 1531466259483,
          "user_tz": -330,
          "elapsed": 1271,
          "user": {
            "displayName": "ankur raja",
            "photoUrl": "//lh3.googleusercontent.com/-P3hjYlx442I/AAAAAAAAAAI/AAAAAAAAAJ8/_AwxqjC6DhE/s50-c-k-no/photo.jpg",
            "userId": "111833698361307138454"
          }
        }
      },
      "cell_type": "code",
      "source": [
        "# Check\n",
        "master_yoda('I am home')"
      ],
      "execution_count": 25,
      "outputs": [
        {
          "output_type": "execute_result",
          "data": {
            "text/plain": [
              "'home am I'"
            ]
          },
          "metadata": {
            "tags": []
          },
          "execution_count": 25
        }
      ]
    },
    {
      "metadata": {
        "id": "DkKGzVXhO4fu",
        "colab_type": "code",
        "colab": {
          "autoexec": {
            "startup": false,
            "wait_interval": 0
          },
          "base_uri": "https://localhost:8080/",
          "height": 35
        },
        "outputId": "31a71839-1678-4ef8-cd71-980eb7fea057",
        "executionInfo": {
          "status": "ok",
          "timestamp": 1531466262966,
          "user_tz": -330,
          "elapsed": 1002,
          "user": {
            "displayName": "ankur raja",
            "photoUrl": "//lh3.googleusercontent.com/-P3hjYlx442I/AAAAAAAAAAI/AAAAAAAAAJ8/_AwxqjC6DhE/s50-c-k-no/photo.jpg",
            "userId": "111833698361307138454"
          }
        }
      },
      "cell_type": "code",
      "source": [
        "# Check\n",
        "master_yoda('We are ready')"
      ],
      "execution_count": 26,
      "outputs": [
        {
          "output_type": "execute_result",
          "data": {
            "text/plain": [
              "'ready are We'"
            ]
          },
          "metadata": {
            "tags": []
          },
          "execution_count": 26
        }
      ]
    },
    {
      "metadata": {
        "id": "oasJ527DO4fy",
        "colab_type": "text"
      },
      "cell_type": "markdown",
      "source": [
        "#### ALMOST THERE: Given an integer n, return True if n is within 10 of either 100 or 200\n",
        "\n",
        "    almost_there(90) --> True\n",
        "    almost_there(104) --> True\n",
        "    almost_there(150) --> False\n",
        "    almost_there(209) --> True\n",
        "    \n",
        "NOTE: `abs(num)` returns the absolute value of a number"
      ]
    },
    {
      "metadata": {
        "id": "o6mt9jPnO4fy",
        "colab_type": "code",
        "colab": {
          "autoexec": {
            "startup": false,
            "wait_interval": 0
          },
          "base_uri": "https://localhost:8080/",
          "height": 37
        },
        "outputId": "34670ac2-781f-4d86-cc88-74890df4ea6e",
        "executionInfo": {
          "status": "ok",
          "timestamp": 1531466370161,
          "user_tz": -330,
          "elapsed": 843,
          "user": {
            "displayName": "ankur raja",
            "photoUrl": "//lh3.googleusercontent.com/-P3hjYlx442I/AAAAAAAAAAI/AAAAAAAAAJ8/_AwxqjC6DhE/s50-c-k-no/photo.jpg",
            "userId": "111833698361307138454"
          }
        }
      },
      "cell_type": "code",
      "source": [
        "def almost_there(n):\n",
        "#     pass\n",
        "  if n>=90 and n<=110 or n<=200 and n>=210:\n",
        "    return True\n",
        "  return False"
      ],
      "execution_count": 31,
      "outputs": []
    },
    {
      "metadata": {
        "id": "_sma9abuO4f1",
        "colab_type": "code",
        "colab": {
          "autoexec": {
            "startup": false,
            "wait_interval": 0
          },
          "base_uri": "https://localhost:8080/",
          "height": 35
        },
        "outputId": "3745ce10-d398-4d13-879b-52b74aba908f",
        "executionInfo": {
          "status": "ok",
          "timestamp": 1531466374195,
          "user_tz": -330,
          "elapsed": 866,
          "user": {
            "displayName": "ankur raja",
            "photoUrl": "//lh3.googleusercontent.com/-P3hjYlx442I/AAAAAAAAAAI/AAAAAAAAAJ8/_AwxqjC6DhE/s50-c-k-no/photo.jpg",
            "userId": "111833698361307138454"
          }
        }
      },
      "cell_type": "code",
      "source": [
        "# Check\n",
        "almost_there(104)"
      ],
      "execution_count": 32,
      "outputs": [
        {
          "output_type": "execute_result",
          "data": {
            "text/plain": [
              "True"
            ]
          },
          "metadata": {
            "tags": []
          },
          "execution_count": 32
        }
      ]
    },
    {
      "metadata": {
        "id": "s0qLOpvkO4f7",
        "colab_type": "code",
        "colab": {
          "autoexec": {
            "startup": false,
            "wait_interval": 0
          },
          "base_uri": "https://localhost:8080/",
          "height": 35
        },
        "outputId": "1388480c-e241-4a3d-e27a-9bbc2d1bae38",
        "executionInfo": {
          "status": "ok",
          "timestamp": 1531466387675,
          "user_tz": -330,
          "elapsed": 1077,
          "user": {
            "displayName": "ankur raja",
            "photoUrl": "//lh3.googleusercontent.com/-P3hjYlx442I/AAAAAAAAAAI/AAAAAAAAAJ8/_AwxqjC6DhE/s50-c-k-no/photo.jpg",
            "userId": "111833698361307138454"
          }
        }
      },
      "cell_type": "code",
      "source": [
        "# Check\n",
        "almost_there(150)"
      ],
      "execution_count": 33,
      "outputs": [
        {
          "output_type": "execute_result",
          "data": {
            "text/plain": [
              "False"
            ]
          },
          "metadata": {
            "tags": []
          },
          "execution_count": 33
        }
      ]
    },
    {
      "metadata": {
        "id": "tAeD9YoRO4f9",
        "colab_type": "code",
        "colab": {
          "autoexec": {
            "startup": false,
            "wait_interval": 0
          },
          "base_uri": "https://localhost:8080/",
          "height": 35
        },
        "outputId": "c18dba95-f6b1-4ea2-c9f7-2fba573778c5",
        "executionInfo": {
          "status": "ok",
          "timestamp": 1531466390242,
          "user_tz": -330,
          "elapsed": 888,
          "user": {
            "displayName": "ankur raja",
            "photoUrl": "//lh3.googleusercontent.com/-P3hjYlx442I/AAAAAAAAAAI/AAAAAAAAAJ8/_AwxqjC6DhE/s50-c-k-no/photo.jpg",
            "userId": "111833698361307138454"
          }
        }
      },
      "cell_type": "code",
      "source": [
        "# Check\n",
        "almost_there(209)"
      ],
      "execution_count": 34,
      "outputs": [
        {
          "output_type": "execute_result",
          "data": {
            "text/plain": [
              "False"
            ]
          },
          "metadata": {
            "tags": []
          },
          "execution_count": 34
        }
      ]
    },
    {
      "metadata": {
        "id": "Zgu8d0sxO4gB",
        "colab_type": "text"
      },
      "cell_type": "markdown",
      "source": [
        "# LEVEL 2 PROBLEMS"
      ]
    },
    {
      "metadata": {
        "id": "m7SqedBhO4gB",
        "colab_type": "text"
      },
      "cell_type": "markdown",
      "source": [
        "#### FIND 33: \n",
        "\n",
        "Given a list of ints, return True if the array contains a 3 next to a 3 somewhere.\n",
        "\n",
        "    has_33([1, 3, 3]) → True\n",
        "    has_33([1, 3, 1, 3]) → False\n",
        "    has_33([3, 1, 3]) → False"
      ]
    },
    {
      "metadata": {
        "id": "mRIQyxSXO4gC",
        "colab_type": "code",
        "colab": {
          "autoexec": {
            "startup": false,
            "wait_interval": 0
          },
          "base_uri": "https://localhost:8080/",
          "height": 37
        },
        "outputId": "74c97007-de45-4469-ab80-6fcb981be5d3",
        "executionInfo": {
          "status": "ok",
          "timestamp": 1531466486154,
          "user_tz": -330,
          "elapsed": 1199,
          "user": {
            "displayName": "ankur raja",
            "photoUrl": "//lh3.googleusercontent.com/-P3hjYlx442I/AAAAAAAAAAI/AAAAAAAAAJ8/_AwxqjC6DhE/s50-c-k-no/photo.jpg",
            "userId": "111833698361307138454"
          }
        }
      },
      "cell_type": "code",
      "source": [
        "def has_33(nums):\n",
        "  l = len(nums)\n",
        "  \n",
        "  for i in range(l-1):\n",
        "    \n",
        "    if nums[i]==nums[i+1]:\n",
        "      return True\n",
        "  \n",
        "  return False\n",
        "    #     pass"
      ],
      "execution_count": 35,
      "outputs": []
    },
    {
      "metadata": {
        "id": "qaZ5Sv3LO4gF",
        "colab_type": "code",
        "colab": {
          "autoexec": {
            "startup": false,
            "wait_interval": 0
          },
          "base_uri": "https://localhost:8080/",
          "height": 35
        },
        "outputId": "137fd888-ccac-46c9-f181-644b5f6217d9",
        "executionInfo": {
          "status": "ok",
          "timestamp": 1531466488245,
          "user_tz": -330,
          "elapsed": 915,
          "user": {
            "displayName": "ankur raja",
            "photoUrl": "//lh3.googleusercontent.com/-P3hjYlx442I/AAAAAAAAAAI/AAAAAAAAAJ8/_AwxqjC6DhE/s50-c-k-no/photo.jpg",
            "userId": "111833698361307138454"
          }
        }
      },
      "cell_type": "code",
      "source": [
        "# Check\n",
        "has_33([1, 3, 3])"
      ],
      "execution_count": 36,
      "outputs": [
        {
          "output_type": "execute_result",
          "data": {
            "text/plain": [
              "True"
            ]
          },
          "metadata": {
            "tags": []
          },
          "execution_count": 36
        }
      ]
    },
    {
      "metadata": {
        "id": "lqDYQ0qtO4gG",
        "colab_type": "code",
        "colab": {
          "autoexec": {
            "startup": false,
            "wait_interval": 0
          },
          "base_uri": "https://localhost:8080/",
          "height": 35
        },
        "outputId": "2f25d565-a4e9-4b8f-e8b7-131f20315240",
        "executionInfo": {
          "status": "ok",
          "timestamp": 1531466490886,
          "user_tz": -330,
          "elapsed": 971,
          "user": {
            "displayName": "ankur raja",
            "photoUrl": "//lh3.googleusercontent.com/-P3hjYlx442I/AAAAAAAAAAI/AAAAAAAAAJ8/_AwxqjC6DhE/s50-c-k-no/photo.jpg",
            "userId": "111833698361307138454"
          }
        }
      },
      "cell_type": "code",
      "source": [
        "# Check\n",
        "has_33([1, 3, 1, 3])"
      ],
      "execution_count": 37,
      "outputs": [
        {
          "output_type": "execute_result",
          "data": {
            "text/plain": [
              "False"
            ]
          },
          "metadata": {
            "tags": []
          },
          "execution_count": 37
        }
      ]
    },
    {
      "metadata": {
        "id": "QrpZdMt8O4gJ",
        "colab_type": "code",
        "colab": {
          "autoexec": {
            "startup": false,
            "wait_interval": 0
          },
          "base_uri": "https://localhost:8080/",
          "height": 35
        },
        "outputId": "39ba2249-5015-4e93-92c0-ee90b7fbe69c",
        "executionInfo": {
          "status": "ok",
          "timestamp": 1531466493628,
          "user_tz": -330,
          "elapsed": 928,
          "user": {
            "displayName": "ankur raja",
            "photoUrl": "//lh3.googleusercontent.com/-P3hjYlx442I/AAAAAAAAAAI/AAAAAAAAAJ8/_AwxqjC6DhE/s50-c-k-no/photo.jpg",
            "userId": "111833698361307138454"
          }
        }
      },
      "cell_type": "code",
      "source": [
        "# Check\n",
        "has_33([3, 1, 3])"
      ],
      "execution_count": 38,
      "outputs": [
        {
          "output_type": "execute_result",
          "data": {
            "text/plain": [
              "False"
            ]
          },
          "metadata": {
            "tags": []
          },
          "execution_count": 38
        }
      ]
    },
    {
      "metadata": {
        "id": "Nv5UWRnZO4gL",
        "colab_type": "text"
      },
      "cell_type": "markdown",
      "source": [
        "#### PAPER DOLL: Given a string, return a string where for every character in the original there are three characters\n",
        "    paper_doll('Hello') --> 'HHHeeellllllooo'\n",
        "    paper_doll('Mississippi') --> 'MMMiiissssssiiippppppiii'"
      ]
    },
    {
      "metadata": {
        "id": "4mTgMbm2O4gM",
        "colab_type": "code",
        "colab": {
          "autoexec": {
            "startup": false,
            "wait_interval": 0
          },
          "base_uri": "https://localhost:8080/",
          "height": 37
        },
        "outputId": "e51826d2-bca6-4436-95ab-60d5451d7d01",
        "executionInfo": {
          "status": "ok",
          "timestamp": 1531466604727,
          "user_tz": -330,
          "elapsed": 1007,
          "user": {
            "displayName": "ankur raja",
            "photoUrl": "//lh3.googleusercontent.com/-P3hjYlx442I/AAAAAAAAAAI/AAAAAAAAAJ8/_AwxqjC6DhE/s50-c-k-no/photo.jpg",
            "userId": "111833698361307138454"
          }
        }
      },
      "cell_type": "code",
      "source": [
        "def paper_doll(text):\n",
        "#     pass\n",
        "  s =\"\"\n",
        "  \n",
        "  for char in text:\n",
        "    s+=char*3\n",
        "  \n",
        "  return s"
      ],
      "execution_count": 39,
      "outputs": []
    },
    {
      "metadata": {
        "id": "XNHhtS06O4gP",
        "colab_type": "code",
        "colab": {
          "autoexec": {
            "startup": false,
            "wait_interval": 0
          },
          "base_uri": "https://localhost:8080/",
          "height": 35
        },
        "outputId": "de1aa74c-3d06-4b6c-db53-1043022abb29",
        "executionInfo": {
          "status": "ok",
          "timestamp": 1531466606879,
          "user_tz": -330,
          "elapsed": 877,
          "user": {
            "displayName": "ankur raja",
            "photoUrl": "//lh3.googleusercontent.com/-P3hjYlx442I/AAAAAAAAAAI/AAAAAAAAAJ8/_AwxqjC6DhE/s50-c-k-no/photo.jpg",
            "userId": "111833698361307138454"
          }
        }
      },
      "cell_type": "code",
      "source": [
        "# Check\n",
        "paper_doll('Hello')"
      ],
      "execution_count": 40,
      "outputs": [
        {
          "output_type": "execute_result",
          "data": {
            "text/plain": [
              "'HHHeeellllllooo'"
            ]
          },
          "metadata": {
            "tags": []
          },
          "execution_count": 40
        }
      ]
    },
    {
      "metadata": {
        "id": "Ir0YCShtO4gT",
        "colab_type": "code",
        "colab": {
          "autoexec": {
            "startup": false,
            "wait_interval": 0
          },
          "base_uri": "https://localhost:8080/",
          "height": 35
        },
        "outputId": "223c093c-1cec-46c6-8d22-f79488e4c3d5",
        "executionInfo": {
          "status": "ok",
          "timestamp": 1531466611798,
          "user_tz": -330,
          "elapsed": 1033,
          "user": {
            "displayName": "ankur raja",
            "photoUrl": "//lh3.googleusercontent.com/-P3hjYlx442I/AAAAAAAAAAI/AAAAAAAAAJ8/_AwxqjC6DhE/s50-c-k-no/photo.jpg",
            "userId": "111833698361307138454"
          }
        }
      },
      "cell_type": "code",
      "source": [
        "# Check\n",
        "paper_doll('Mississippi')"
      ],
      "execution_count": 41,
      "outputs": [
        {
          "output_type": "execute_result",
          "data": {
            "text/plain": [
              "'MMMiiissssssiiissssssiiippppppiii'"
            ]
          },
          "metadata": {
            "tags": []
          },
          "execution_count": 41
        }
      ]
    },
    {
      "metadata": {
        "id": "kE22iqmgO4gW",
        "colab_type": "text"
      },
      "cell_type": "markdown",
      "source": [
        "#### BLACKJACK: Given three integers between 1 and 11, if their sum is less than or equal to 21, return their sum. If their sum exceeds 21 *and* there's an eleven, reduce the total sum by 10. Finally, if the sum (even after adjustment) exceeds 21, return 'BUST'\n",
        "    blackjack(5,6,7) --> 18\n",
        "    blackjack(9,9,9) --> 'BUST'\n",
        "    blackjack(9,9,11) --> 19"
      ]
    },
    {
      "metadata": {
        "id": "odR6EBvQO4gY",
        "colab_type": "code",
        "colab": {
          "autoexec": {
            "startup": false,
            "wait_interval": 0
          },
          "base_uri": "https://localhost:8080/",
          "height": 37
        },
        "outputId": "6c7ab531-7516-492c-afb6-8c2ba8e98b04",
        "executionInfo": {
          "status": "ok",
          "timestamp": 1531466817627,
          "user_tz": -330,
          "elapsed": 909,
          "user": {
            "displayName": "ankur raja",
            "photoUrl": "//lh3.googleusercontent.com/-P3hjYlx442I/AAAAAAAAAAI/AAAAAAAAAJ8/_AwxqjC6DhE/s50-c-k-no/photo.jpg",
            "userId": "111833698361307138454"
          }
        }
      },
      "cell_type": "code",
      "source": [
        "def blackjack(a,b,c):\n",
        "#     pass\n",
        "  if a+b+c<=21:\n",
        "    return a+b+c\n",
        "  \n",
        "  elif a==11 or b==11 or c==11:\n",
        "    \n",
        "    if a+b+c-11<21:\n",
        "      return a+b+c-10\n",
        "  \n",
        "  return 'BUST'"
      ],
      "execution_count": 42,
      "outputs": []
    },
    {
      "metadata": {
        "id": "9rfpzUplO4gb",
        "colab_type": "code",
        "colab": {
          "autoexec": {
            "startup": false,
            "wait_interval": 0
          },
          "base_uri": "https://localhost:8080/",
          "height": 35
        },
        "outputId": "05a09efc-e883-46d9-d547-a9691f9e681c",
        "executionInfo": {
          "status": "ok",
          "timestamp": 1531466820768,
          "user_tz": -330,
          "elapsed": 881,
          "user": {
            "displayName": "ankur raja",
            "photoUrl": "//lh3.googleusercontent.com/-P3hjYlx442I/AAAAAAAAAAI/AAAAAAAAAJ8/_AwxqjC6DhE/s50-c-k-no/photo.jpg",
            "userId": "111833698361307138454"
          }
        }
      },
      "cell_type": "code",
      "source": [
        "# Check\n",
        "blackjack(5,6,7)"
      ],
      "execution_count": 43,
      "outputs": [
        {
          "output_type": "execute_result",
          "data": {
            "text/plain": [
              "18"
            ]
          },
          "metadata": {
            "tags": []
          },
          "execution_count": 43
        }
      ]
    },
    {
      "metadata": {
        "id": "QKfNZ9PaO4ge",
        "colab_type": "code",
        "colab": {
          "autoexec": {
            "startup": false,
            "wait_interval": 0
          },
          "base_uri": "https://localhost:8080/",
          "height": 35
        },
        "outputId": "dac789cb-3d21-4b2c-a715-7125592d87cd",
        "executionInfo": {
          "status": "ok",
          "timestamp": 1531466825617,
          "user_tz": -330,
          "elapsed": 990,
          "user": {
            "displayName": "ankur raja",
            "photoUrl": "//lh3.googleusercontent.com/-P3hjYlx442I/AAAAAAAAAAI/AAAAAAAAAJ8/_AwxqjC6DhE/s50-c-k-no/photo.jpg",
            "userId": "111833698361307138454"
          }
        }
      },
      "cell_type": "code",
      "source": [
        "# Check\n",
        "blackjack(9,9,9)"
      ],
      "execution_count": 44,
      "outputs": [
        {
          "output_type": "execute_result",
          "data": {
            "text/plain": [
              "'BUST'"
            ]
          },
          "metadata": {
            "tags": []
          },
          "execution_count": 44
        }
      ]
    },
    {
      "metadata": {
        "id": "R_7eeMjUO4gi",
        "colab_type": "code",
        "colab": {
          "autoexec": {
            "startup": false,
            "wait_interval": 0
          },
          "base_uri": "https://localhost:8080/",
          "height": 35
        },
        "outputId": "781b3611-fc21-4eca-dbb0-4a459134ac21",
        "executionInfo": {
          "status": "ok",
          "timestamp": 1531466829197,
          "user_tz": -330,
          "elapsed": 920,
          "user": {
            "displayName": "ankur raja",
            "photoUrl": "//lh3.googleusercontent.com/-P3hjYlx442I/AAAAAAAAAAI/AAAAAAAAAJ8/_AwxqjC6DhE/s50-c-k-no/photo.jpg",
            "userId": "111833698361307138454"
          }
        }
      },
      "cell_type": "code",
      "source": [
        "# Check\n",
        "blackjack(9,9,11)"
      ],
      "execution_count": 45,
      "outputs": [
        {
          "output_type": "execute_result",
          "data": {
            "text/plain": [
              "19"
            ]
          },
          "metadata": {
            "tags": []
          },
          "execution_count": 45
        }
      ]
    },
    {
      "metadata": {
        "id": "hZAYFLK9O4gl",
        "colab_type": "text"
      },
      "cell_type": "markdown",
      "source": [
        "#### SUMMER OF '69: Return the sum of the numbers in the array, except ignore sections of numbers starting with a 6 and extending to the next 9 (every 6 will be followed by at least one 9). Return 0 for no numbers.\n",
        " \n",
        "    summer_69([1, 3, 5]) --> 9\n",
        "    summer_69([4, 5, 6, 7, 8, 9]) --> 9\n",
        "    summer_69([2, 1, 6, 9, 11]) --> 14"
      ]
    },
    {
      "metadata": {
        "id": "nT6BjcWlO4gl",
        "colab_type": "code",
        "colab": {
          "autoexec": {
            "startup": false,
            "wait_interval": 0
          },
          "base_uri": "https://localhost:8080/",
          "height": 37
        },
        "outputId": "fe0a526a-c7c7-4fee-f932-2efbee1556a8",
        "executionInfo": {
          "status": "ok",
          "timestamp": 1531467024469,
          "user_tz": -330,
          "elapsed": 961,
          "user": {
            "displayName": "ankur raja",
            "photoUrl": "//lh3.googleusercontent.com/-P3hjYlx442I/AAAAAAAAAAI/AAAAAAAAAJ8/_AwxqjC6DhE/s50-c-k-no/photo.jpg",
            "userId": "111833698361307138454"
          }
        }
      },
      "cell_type": "code",
      "source": [
        "def summer_69(arr):\n",
        "  \n",
        "  flag = False\n",
        "  \n",
        "  sum =0 \n",
        "  \n",
        "  for number in arr:\n",
        "    \n",
        "    if number==6:\n",
        "      flag=True\n",
        "    \n",
        "    if flag==False:\n",
        "      sum+=number\n",
        "    \n",
        "    \n",
        "    if flag and number==9:\n",
        "      flag = False\n",
        "    \n",
        "    \n",
        "  \n",
        "  return sum\n",
        "    \n",
        "#     pass"
      ],
      "execution_count": 50,
      "outputs": []
    },
    {
      "metadata": {
        "id": "JXhnmfG6O4gp",
        "colab_type": "code",
        "colab": {
          "autoexec": {
            "startup": false,
            "wait_interval": 0
          },
          "base_uri": "https://localhost:8080/",
          "height": 35
        },
        "outputId": "89cf5bf6-e250-4c4b-b51d-751a1838b500",
        "executionInfo": {
          "status": "ok",
          "timestamp": 1531467027350,
          "user_tz": -330,
          "elapsed": 884,
          "user": {
            "displayName": "ankur raja",
            "photoUrl": "//lh3.googleusercontent.com/-P3hjYlx442I/AAAAAAAAAAI/AAAAAAAAAJ8/_AwxqjC6DhE/s50-c-k-no/photo.jpg",
            "userId": "111833698361307138454"
          }
        }
      },
      "cell_type": "code",
      "source": [
        "# Check\n",
        "summer_69([1, 3, 5])"
      ],
      "execution_count": 51,
      "outputs": [
        {
          "output_type": "execute_result",
          "data": {
            "text/plain": [
              "9"
            ]
          },
          "metadata": {
            "tags": []
          },
          "execution_count": 51
        }
      ]
    },
    {
      "metadata": {
        "id": "0xrvaJA9O4gq",
        "colab_type": "code",
        "colab": {
          "autoexec": {
            "startup": false,
            "wait_interval": 0
          },
          "base_uri": "https://localhost:8080/",
          "height": 35
        },
        "outputId": "b27fa695-137f-4710-f3d1-527144d4d9ad",
        "executionInfo": {
          "status": "ok",
          "timestamp": 1531467030520,
          "user_tz": -330,
          "elapsed": 916,
          "user": {
            "displayName": "ankur raja",
            "photoUrl": "//lh3.googleusercontent.com/-P3hjYlx442I/AAAAAAAAAAI/AAAAAAAAAJ8/_AwxqjC6DhE/s50-c-k-no/photo.jpg",
            "userId": "111833698361307138454"
          }
        }
      },
      "cell_type": "code",
      "source": [
        "# Check\n",
        "summer_69([4, 5, 6, 7, 8, 9])"
      ],
      "execution_count": 52,
      "outputs": [
        {
          "output_type": "execute_result",
          "data": {
            "text/plain": [
              "9"
            ]
          },
          "metadata": {
            "tags": []
          },
          "execution_count": 52
        }
      ]
    },
    {
      "metadata": {
        "id": "_fSWIClOO4gt",
        "colab_type": "code",
        "colab": {
          "autoexec": {
            "startup": false,
            "wait_interval": 0
          },
          "base_uri": "https://localhost:8080/",
          "height": 35
        },
        "outputId": "446bb689-14f6-4611-e7c8-2466c022af75",
        "executionInfo": {
          "status": "ok",
          "timestamp": 1531467036866,
          "user_tz": -330,
          "elapsed": 882,
          "user": {
            "displayName": "ankur raja",
            "photoUrl": "//lh3.googleusercontent.com/-P3hjYlx442I/AAAAAAAAAAI/AAAAAAAAAJ8/_AwxqjC6DhE/s50-c-k-no/photo.jpg",
            "userId": "111833698361307138454"
          }
        }
      },
      "cell_type": "code",
      "source": [
        "# Check\n",
        "summer_69([2, 1, 6, 9, 11])"
      ],
      "execution_count": 53,
      "outputs": [
        {
          "output_type": "execute_result",
          "data": {
            "text/plain": [
              "14"
            ]
          },
          "metadata": {
            "tags": []
          },
          "execution_count": 53
        }
      ]
    },
    {
      "metadata": {
        "id": "bWtAjWhwO4gv",
        "colab_type": "text"
      },
      "cell_type": "markdown",
      "source": [
        "# CHALLENGING PROBLEMS"
      ]
    },
    {
      "metadata": {
        "id": "U05e5izrO4gw",
        "colab_type": "text"
      },
      "cell_type": "markdown",
      "source": [
        "#### SPY GAME: Write a function that takes in a list of integers and returns True if it contains 007 in order\n",
        "\n",
        "     spy_game([1,2,4,0,0,7,5]) --> True\n",
        "     spy_game([1,0,2,4,0,5,7]) --> True\n",
        "     spy_game([1,7,2,0,4,5,0]) --> False\n"
      ]
    },
    {
      "metadata": {
        "id": "Q8KY1A4tO4gx",
        "colab_type": "code",
        "colab": {
          "autoexec": {
            "startup": false,
            "wait_interval": 0
          }
        }
      },
      "cell_type": "code",
      "source": [
        "def spy_game(nums):\n",
        "#     pass\n",
        "  l = len(nums)\n",
        "  \n",
        "  check_first_zero = False\n",
        "  check_second_zero = False\n",
        "  \n",
        "  for i in range(l):\n",
        "    \n",
        "    if nums[i]==0:\n",
        "      \n",
        "      if check_first_zero==False:\n",
        "        check_first_zero=True\n",
        "      \n",
        "      else:\n",
        "        check_second_zero=True\n",
        "    \n",
        "    if check_second_zero==True and nums[i]==7:\n",
        "      return True\n",
        "  \n",
        "  return False\n",
        "\n",
        "\n",
        "### better solution use a stack based method s = [0,0,7]"
      ],
      "execution_count": 0,
      "outputs": []
    },
    {
      "metadata": {
        "id": "4QBwpOi4O4gz",
        "colab_type": "code",
        "colab": {
          "autoexec": {
            "startup": false,
            "wait_interval": 0
          },
          "base_uri": "https://localhost:8080/",
          "height": 35
        },
        "outputId": "850d9532-a9e5-4f41-d5d6-87c9897fbfef",
        "executionInfo": {
          "status": "ok",
          "timestamp": 1531469343625,
          "user_tz": -330,
          "elapsed": 885,
          "user": {
            "displayName": "ankur raja",
            "photoUrl": "//lh3.googleusercontent.com/-P3hjYlx442I/AAAAAAAAAAI/AAAAAAAAAJ8/_AwxqjC6DhE/s50-c-k-no/photo.jpg",
            "userId": "111833698361307138454"
          }
        }
      },
      "cell_type": "code",
      "source": [
        "# Check\n",
        "spy_game([1,2,4,0,0,7,5])"
      ],
      "execution_count": 103,
      "outputs": [
        {
          "output_type": "execute_result",
          "data": {
            "text/plain": [
              "True"
            ]
          },
          "metadata": {
            "tags": []
          },
          "execution_count": 103
        }
      ]
    },
    {
      "metadata": {
        "id": "Yp4MnSjFO4g2",
        "colab_type": "code",
        "colab": {
          "autoexec": {
            "startup": false,
            "wait_interval": 0
          },
          "base_uri": "https://localhost:8080/",
          "height": 35
        },
        "outputId": "9336103a-8d46-46e6-b6cb-9f90caf6879e",
        "executionInfo": {
          "status": "ok",
          "timestamp": 1531469346098,
          "user_tz": -330,
          "elapsed": 832,
          "user": {
            "displayName": "ankur raja",
            "photoUrl": "//lh3.googleusercontent.com/-P3hjYlx442I/AAAAAAAAAAI/AAAAAAAAAJ8/_AwxqjC6DhE/s50-c-k-no/photo.jpg",
            "userId": "111833698361307138454"
          }
        }
      },
      "cell_type": "code",
      "source": [
        "# Check\n",
        "spy_game([1,0,2,4,0,5,7])"
      ],
      "execution_count": 104,
      "outputs": [
        {
          "output_type": "execute_result",
          "data": {
            "text/plain": [
              "True"
            ]
          },
          "metadata": {
            "tags": []
          },
          "execution_count": 104
        }
      ]
    },
    {
      "metadata": {
        "id": "4YvrO1h7O4g4",
        "colab_type": "code",
        "colab": {
          "autoexec": {
            "startup": false,
            "wait_interval": 0
          },
          "base_uri": "https://localhost:8080/",
          "height": 35
        },
        "outputId": "41243905-46c3-4a48-ed5f-e39575e626a3",
        "executionInfo": {
          "status": "ok",
          "timestamp": 1531469350412,
          "user_tz": -330,
          "elapsed": 1976,
          "user": {
            "displayName": "ankur raja",
            "photoUrl": "//lh3.googleusercontent.com/-P3hjYlx442I/AAAAAAAAAAI/AAAAAAAAAJ8/_AwxqjC6DhE/s50-c-k-no/photo.jpg",
            "userId": "111833698361307138454"
          }
        }
      },
      "cell_type": "code",
      "source": [
        "# Check\n",
        "spy_game([1,7,2,0,4,5,0])"
      ],
      "execution_count": 105,
      "outputs": [
        {
          "output_type": "execute_result",
          "data": {
            "text/plain": [
              "False"
            ]
          },
          "metadata": {
            "tags": []
          },
          "execution_count": 105
        }
      ]
    },
    {
      "metadata": {
        "id": "kGGBQPTdO4g6",
        "colab_type": "text"
      },
      "cell_type": "markdown",
      "source": [
        "#### COUNT PRIMES: Write a function that returns the *number* of prime numbers that exist up to and including a given number\n",
        "    count_primes(100) --> 25\n",
        "\n",
        "By convention, 0 and 1 are not prime."
      ]
    },
    {
      "metadata": {
        "id": "z-xAoXP1O4g7",
        "colab_type": "code",
        "colab": {
          "autoexec": {
            "startup": false,
            "wait_interval": 0
          },
          "base_uri": "https://localhost:8080/",
          "height": 37
        },
        "outputId": "ed89111b-3914-4e03-8f53-39c772d5144e",
        "executionInfo": {
          "status": "ok",
          "timestamp": 1531467542926,
          "user_tz": -330,
          "elapsed": 988,
          "user": {
            "displayName": "ankur raja",
            "photoUrl": "//lh3.googleusercontent.com/-P3hjYlx442I/AAAAAAAAAAI/AAAAAAAAAJ8/_AwxqjC6DhE/s50-c-k-no/photo.jpg",
            "userId": "111833698361307138454"
          }
        }
      },
      "cell_type": "code",
      "source": [
        "def count_primes(num):\n",
        "#     pass\n",
        "\n",
        "  def is_prime(n):\n",
        "    for i in range(2,n):\n",
        "      if n%i==0:\n",
        "        return False\n",
        "    return True\n",
        "    \n",
        "    \n",
        "  count =0\n",
        "  for i in range(2,num+1):\n",
        "    if is_prime(i):\n",
        "      count+=1\n",
        "  \n",
        "  return count\n",
        "                "
      ],
      "execution_count": 72,
      "outputs": []
    },
    {
      "metadata": {
        "id": "2vCXWvftO4g_",
        "colab_type": "code",
        "colab": {
          "autoexec": {
            "startup": false,
            "wait_interval": 0
          },
          "base_uri": "https://localhost:8080/",
          "height": 35
        },
        "outputId": "8216673a-3739-44cf-a7b5-26e5f144c98b",
        "executionInfo": {
          "status": "ok",
          "timestamp": 1531467544578,
          "user_tz": -330,
          "elapsed": 911,
          "user": {
            "displayName": "ankur raja",
            "photoUrl": "//lh3.googleusercontent.com/-P3hjYlx442I/AAAAAAAAAAI/AAAAAAAAAJ8/_AwxqjC6DhE/s50-c-k-no/photo.jpg",
            "userId": "111833698361307138454"
          }
        }
      },
      "cell_type": "code",
      "source": [
        "# Check\n",
        "count_primes(100)"
      ],
      "execution_count": 73,
      "outputs": [
        {
          "output_type": "execute_result",
          "data": {
            "text/plain": [
              "25"
            ]
          },
          "metadata": {
            "tags": []
          },
          "execution_count": 73
        }
      ]
    },
    {
      "metadata": {
        "id": "hU1odP5wO4hB",
        "colab_type": "text"
      },
      "cell_type": "markdown",
      "source": [
        "### Just for fun:\n",
        "#### PRINT BIG: Write a function that takes in a single letter, and returns a 5x5 representation of that letter\n",
        "    print_big('a')\n",
        "    \n",
        "    out:   *  \n",
        "          * *\n",
        "         *****\n",
        "         *   *\n",
        "         *   *\n",
        "HINT: Consider making a dictionary of possible patterns, and mapping the alphabet to specific 5-line combinations of patterns. <br>For purposes of this exercise, it's ok if your dictionary stops at \"E\"."
      ]
    },
    {
      "metadata": {
        "id": "AC_g38fCO4hC",
        "colab_type": "code",
        "colab": {
          "autoexec": {
            "startup": false,
            "wait_interval": 0
          },
          "base_uri": "https://localhost:8080/",
          "height": 37
        },
        "outputId": "720c8539-e6b9-4272-e222-f467ad0a51ae",
        "executionInfo": {
          "status": "ok",
          "timestamp": 1531468352231,
          "user_tz": -330,
          "elapsed": 920,
          "user": {
            "displayName": "ankur raja",
            "photoUrl": "//lh3.googleusercontent.com/-P3hjYlx442I/AAAAAAAAAAI/AAAAAAAAAJ8/_AwxqjC6DhE/s50-c-k-no/photo.jpg",
            "userId": "111833698361307138454"
          }
        }
      },
      "cell_type": "code",
      "source": [
        "def print_big(letter):\n",
        "#     pass\n",
        "  dict = {}\n",
        "  dict['a']=\"  *  \\n * * \\n*****\\n*   *\\n*   *\"\n",
        "  dict['b']=\"*****\\n*   *\\n*****\\n*   *\\n*****\"\n",
        "  dict['c']=\"*****\\n*\\n*\\n*\\n*****\"\n",
        "  dict['d']=\"*****\\n*   *\\n*   *\\n*   *\\n*****\"\n",
        "  dict['e']=\"*****\\n*\\n*****\\n*\\n*****\"\n",
        "#   print (dict['a'])\n",
        "  print (dict[letter])"
      ],
      "execution_count": 91,
      "outputs": []
    },
    {
      "metadata": {
        "id": "Q1TOFj_6O4hF",
        "colab_type": "code",
        "colab": {
          "autoexec": {
            "startup": false,
            "wait_interval": 0
          },
          "base_uri": "https://localhost:8080/",
          "height": 104
        },
        "outputId": "3f188c54-fc99-4683-e57d-0a71dcaa7e06",
        "executionInfo": {
          "status": "ok",
          "timestamp": 1531468355075,
          "user_tz": -330,
          "elapsed": 1090,
          "user": {
            "displayName": "ankur raja",
            "photoUrl": "//lh3.googleusercontent.com/-P3hjYlx442I/AAAAAAAAAAI/AAAAAAAAAJ8/_AwxqjC6DhE/s50-c-k-no/photo.jpg",
            "userId": "111833698361307138454"
          }
        }
      },
      "cell_type": "code",
      "source": [
        "print_big('a')"
      ],
      "execution_count": 92,
      "outputs": [
        {
          "output_type": "stream",
          "text": [
            "  *  \n",
            " * * \n",
            "*****\n",
            "*   *\n",
            "*   *\n"
          ],
          "name": "stdout"
        }
      ]
    },
    {
      "metadata": {
        "id": "UsGq-pXdnUud",
        "colab_type": "code",
        "colab": {
          "autoexec": {
            "startup": false,
            "wait_interval": 0
          },
          "base_uri": "https://localhost:8080/",
          "height": 104
        },
        "outputId": "3a5b6574-ba8d-4824-d329-1d74fb1963fa",
        "executionInfo": {
          "status": "ok",
          "timestamp": 1531468370968,
          "user_tz": -330,
          "elapsed": 912,
          "user": {
            "displayName": "ankur raja",
            "photoUrl": "//lh3.googleusercontent.com/-P3hjYlx442I/AAAAAAAAAAI/AAAAAAAAAJ8/_AwxqjC6DhE/s50-c-k-no/photo.jpg",
            "userId": "111833698361307138454"
          }
        }
      },
      "cell_type": "code",
      "source": [
        "print_big('b')"
      ],
      "execution_count": 93,
      "outputs": [
        {
          "output_type": "stream",
          "text": [
            "*****\n",
            "*   *\n",
            "*****\n",
            "*   *\n",
            "*****\n"
          ],
          "name": "stdout"
        }
      ]
    },
    {
      "metadata": {
        "id": "vcxLkNBLoOBy",
        "colab_type": "code",
        "colab": {
          "autoexec": {
            "startup": false,
            "wait_interval": 0
          },
          "base_uri": "https://localhost:8080/",
          "height": 104
        },
        "outputId": "b2b54ddb-4863-4466-d4eb-e7b793b4d6f5",
        "executionInfo": {
          "status": "ok",
          "timestamp": 1531468380036,
          "user_tz": -330,
          "elapsed": 1296,
          "user": {
            "displayName": "ankur raja",
            "photoUrl": "//lh3.googleusercontent.com/-P3hjYlx442I/AAAAAAAAAAI/AAAAAAAAAJ8/_AwxqjC6DhE/s50-c-k-no/photo.jpg",
            "userId": "111833698361307138454"
          }
        }
      },
      "cell_type": "code",
      "source": [
        "print_big('c')"
      ],
      "execution_count": 94,
      "outputs": [
        {
          "output_type": "stream",
          "text": [
            "*****\n",
            "*\n",
            "*\n",
            "*\n",
            "*****\n"
          ],
          "name": "stdout"
        }
      ]
    },
    {
      "metadata": {
        "id": "_AN1YL3qoPHk",
        "colab_type": "code",
        "colab": {
          "autoexec": {
            "startup": false,
            "wait_interval": 0
          },
          "base_uri": "https://localhost:8080/",
          "height": 104
        },
        "outputId": "d6084efe-ec17-4334-f17e-3a26c8a1d51e",
        "executionInfo": {
          "status": "ok",
          "timestamp": 1531468384678,
          "user_tz": -330,
          "elapsed": 888,
          "user": {
            "displayName": "ankur raja",
            "photoUrl": "//lh3.googleusercontent.com/-P3hjYlx442I/AAAAAAAAAAI/AAAAAAAAAJ8/_AwxqjC6DhE/s50-c-k-no/photo.jpg",
            "userId": "111833698361307138454"
          }
        }
      },
      "cell_type": "code",
      "source": [
        "print_big('d')"
      ],
      "execution_count": 95,
      "outputs": [
        {
          "output_type": "stream",
          "text": [
            "*****\n",
            "*   *\n",
            "*   *\n",
            "*   *\n",
            "*****\n"
          ],
          "name": "stdout"
        }
      ]
    },
    {
      "metadata": {
        "id": "tY_BtIp0oQWc",
        "colab_type": "code",
        "colab": {
          "autoexec": {
            "startup": false,
            "wait_interval": 0
          },
          "base_uri": "https://localhost:8080/",
          "height": 104
        },
        "outputId": "97a6327f-74de-438f-dac0-f409c861e5a3",
        "executionInfo": {
          "status": "ok",
          "timestamp": 1531468388988,
          "user_tz": -330,
          "elapsed": 748,
          "user": {
            "displayName": "ankur raja",
            "photoUrl": "//lh3.googleusercontent.com/-P3hjYlx442I/AAAAAAAAAAI/AAAAAAAAAJ8/_AwxqjC6DhE/s50-c-k-no/photo.jpg",
            "userId": "111833698361307138454"
          }
        }
      },
      "cell_type": "code",
      "source": [
        "print_big('e')"
      ],
      "execution_count": 96,
      "outputs": [
        {
          "output_type": "stream",
          "text": [
            "*****\n",
            "*\n",
            "*****\n",
            "*\n",
            "*****\n"
          ],
          "name": "stdout"
        }
      ]
    },
    {
      "metadata": {
        "id": "B1hNTzOnoRb8",
        "colab_type": "code",
        "colab": {
          "autoexec": {
            "startup": false,
            "wait_interval": 0
          }
        }
      },
      "cell_type": "code",
      "source": [
        ""
      ],
      "execution_count": 0,
      "outputs": []
    },
    {
      "metadata": {
        "id": "DHZMoOjuO4hH",
        "colab_type": "text"
      },
      "cell_type": "markdown",
      "source": [
        "## Great Job!"
      ]
    }
  ]
}